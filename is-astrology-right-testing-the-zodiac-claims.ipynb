{
 "cells": [
  {
   "cell_type": "markdown",
   "metadata": {
    "papermill": {
     "duration": 0.030494,
     "end_time": "2020-11-22T13:37:09.728563",
     "exception": false,
     "start_time": "2020-11-22T13:37:09.698069",
     "status": "completed"
    },
    "tags": []
   },
   "source": [
    "# TESTING THE ASTROLOGY/ZODIAC CLAIMS \n",
    "\n",
    "\n",
    "Recently I watched a science TV show program regarding astrology. Two men were discussing the matter and one of them mentioned that it is extremely hard to validate the astrological/zodiac/horoscope predictions as they're simply too \"broad\". It is also known as the so-called **[Barnum Effect](https://en.wikipedia.org/wiki/Barnum_effect)**. The phenomenon occurs when individuals believe that personality descriptions apply specifically to them, while the description can actually be applied to everyone. Seems quite relevant to astrology, doesn't it?)\n",
    "\n",
    "![](https://inspirationfeed.com/wp-content/uploads/2020/05/Astrology-Meme-40.jpg)\n",
    "\n",
    "So the goal of that notebook is to try testing some of the astrology claims, practice some Python data exploration tools and of course have some fun!\n",
    "\n",
    "#### This notebook steps: \n",
    "\n",
    "* [Short astrology intro and my testing approach](#section-one)\n",
    "* [Dataset Review](#section-two)\n",
    "* [Divorces Data Exploration](#section-three)\n",
    "* [Zodiac Compatibity Testing](#section-four)\n",
    "* [Conclusion](#section-five)\n",
    "\n",
    "\n",
    "<a id=\"section-one\"></a>\n",
    "### Short astrology intro and my testing approach\n",
    "\n",
    "**[Astrology](https://en.wikipedia.org/wiki/Astrology)** is a very old discipline that came to us from the 2nd millennium BC and it claims to divine information about human affairs by studying the movements and relative positions of celestial objects like planets, stars and etc.\n",
    "Despite the fact that our modern knowledge of celestial objects is quite advanced as what it was 3,000 years ago, many people still believe in it today.\n",
    "\n",
    "Astrologists state the existence of the \"*zodiac signs*\" like *Aries*, *Taurus* and others. These signs can be assigned to every person based on their birth date and can predict much about the innate character of that individual. \n",
    "\n",
    "The problem is that these \"*innate character*\" predictions of a person are hard to test. However, we aren't giving up yet and there is at least one astrological thing that can somehow be validated and it's called a \"zodiac signs compatibility\". Essentially it means that some couples have higher (\"good fit\") and lower (\"bad fit\") chances for success in their marriage/love relationships depending on the compatibility of each other's zodiac signs. \n",
    "\n",
    "Well... I wish it did work with my wife)\n",
    "\n",
    "In order to test them, we would need an indicator of the couple's \"good fit\" and \"bad fit\". With the first one - it's hard. We don't know if people are actually compatible. They're happy in their relationship? Ok, but how can we determine things like \"happiness\"? What can make a person happy? Pizza? At least a bronze medal for this notebook?\n",
    "\n",
    "However, with the \"bad fit\" - it's much easier. We can perfectly determine a couple's \"bad fit\" and usually it is called a... divorce) So the goal is to take a divorce dataset and see what is the distribution of \"bad fit\" and \"good fit\" compatibilities. \n",
    "\n",
    "**My central assumption: if astrology is right, then we should see less \"good fit\" couples and more \"bad\" ones.**\n",
    "\n",
    "<a id=\"section-two\"></a>\n",
    "### Dataset review\n",
    "\n",
    "I found and uploaded to Kaggle [this interesting](https://www.kaggle.com/aagghh/divorcemarriage-dataset-with-birth-dates) dataset, which is the Mexican government [official](https://datos.gob.mx/busca/dataset/registro-civil) data for the number of divorces in the city of Xalapa, Mexico and it contains approx. 4,900 divorce records. \n",
    "\n",
    "The beauty of this dataset is that along with the other interesting variables, it contains each partner's birth date, which is a very rare event for a public dataset. That way we can find out the partners' zodiac signs and see if they were a good or bad fit. \n",
    "\n",
    "Given that astrology is calling objects like planets and stars, we assume that it works irrespective of any nationalities and world places. \n",
    "\n",
    "So let's rock...\n",
    "\n",
    "<a id=\"section-three\"></a>\n",
    "### Divorces Data exploration\n",
    "\n",
    "Inviting the old fellas:"
   ]
  },
  {
   "cell_type": "code",
   "execution_count": 1,
   "metadata": {
    "_cell_guid": "b1076dfc-b9ad-4769-8c92-a6c4dae69d19",
    "_uuid": "8f2839f25d086af736a60e9eeb907d3b93b6e0e5",
    "execution": {
     "iopub.execute_input": "2020-11-22T13:37:09.797930Z",
     "iopub.status.busy": "2020-11-22T13:37:09.797144Z",
     "iopub.status.idle": "2020-11-22T13:37:10.820828Z",
     "shell.execute_reply": "2020-11-22T13:37:10.820056Z"
    },
    "papermill": {
     "duration": 1.06384,
     "end_time": "2020-11-22T13:37:10.820955",
     "exception": false,
     "start_time": "2020-11-22T13:37:09.757115",
     "status": "completed"
    },
    "tags": []
   },
   "outputs": [
    {
     "name": "stdout",
     "output_type": "stream",
     "text": [
      "/kaggle/input/divorcemarriage-dataset-with-birth-dates/Comp_matrix.csv\n",
      "/kaggle/input/divorcemarriage-dataset-with-birth-dates/divorces_2000-2015_original.csv\n",
      "/kaggle/input/divorcemarriage-dataset-with-birth-dates/divorces_2000-2015_translated.csv\n",
      "/kaggle/input/divorcemarriage-dataset-with-birth-dates/descriptions_for_ column.csv\n"
     ]
    }
   ],
   "source": [
    "#import modules\n",
    "import numpy as np \n",
    "import pandas as pd \n",
    "import seaborn as sns\n",
    "from matplotlib import pyplot as plt\n",
    "from scipy.stats import norm\n",
    "from sklearn.preprocessing import StandardScaler\n",
    "from scipy import stats\n",
    "%matplotlib inline\n",
    "\n",
    "#list all files under the input directory\n",
    "import os\n",
    "for dirname, _, filenames in os.walk('/kaggle/input'):\n",
    "    for filename in filenames:\n",
    "        print(os.path.join(dirname, filename))"
   ]
  },
  {
   "cell_type": "markdown",
   "metadata": {
    "papermill": {
     "duration": 0.029703,
     "end_time": "2020-11-22T13:37:10.880670",
     "exception": false,
     "start_time": "2020-11-22T13:37:10.850967",
     "status": "completed"
    },
    "tags": []
   },
   "source": [
    "The original dataset has columns in Spanish. I've created one with the English ones (divorces_2000-2015_translated.csv) and I am going to use it"
   ]
  },
  {
   "cell_type": "code",
   "execution_count": 2,
   "metadata": {
    "_cell_guid": "79c7e3d0-c299-4dcb-8224-4455121ee9b0",
    "_uuid": "d629ff2d2480ee46fbb7e2d37f6b5fab8052498a",
    "execution": {
     "iopub.execute_input": "2020-11-22T13:37:10.945898Z",
     "iopub.status.busy": "2020-11-22T13:37:10.945002Z",
     "iopub.status.idle": "2020-11-22T13:37:11.075069Z",
     "shell.execute_reply": "2020-11-22T13:37:11.075647Z"
    },
    "papermill": {
     "duration": 0.16593,
     "end_time": "2020-11-22T13:37:11.075814",
     "exception": false,
     "start_time": "2020-11-22T13:37:10.909884",
     "status": "completed"
    },
    "tags": []
   },
   "outputs": [
    {
     "data": {
      "text/html": [
       "<div>\n",
       "<style scoped>\n",
       "    .dataframe tbody tr th:only-of-type {\n",
       "        vertical-align: middle;\n",
       "    }\n",
       "\n",
       "    .dataframe tbody tr th {\n",
       "        vertical-align: top;\n",
       "    }\n",
       "\n",
       "    .dataframe thead th {\n",
       "        text-align: right;\n",
       "    }\n",
       "</style>\n",
       "<table border=\"1\" class=\"dataframe\">\n",
       "  <thead>\n",
       "    <tr style=\"text-align: right;\">\n",
       "      <th></th>\n",
       "      <th>Divorce_date</th>\n",
       "      <th>Type_of_divorce</th>\n",
       "      <th>Nationality_partner_man</th>\n",
       "      <th>DOB_partner_man</th>\n",
       "      <th>Place_of_birth_partner_man</th>\n",
       "      <th>Birth_municipality_of_partner_man</th>\n",
       "      <th>Birth_federal_partner_man</th>\n",
       "      <th>Birth_country_partner_man</th>\n",
       "      <th>Age_partner_man</th>\n",
       "      <th>Residence_municipality_partner_man</th>\n",
       "      <th>...</th>\n",
       "      <th>Marriage_certificate_municipality</th>\n",
       "      <th>Marriage_certificate_federal</th>\n",
       "      <th>Level_of_education_partner_man</th>\n",
       "      <th>Employment_status_partner_man</th>\n",
       "      <th>Level_of_education_partner_woman</th>\n",
       "      <th>Employment_status_partner_woman</th>\n",
       "      <th>Marriage_duration</th>\n",
       "      <th>Marriage_duration_months</th>\n",
       "      <th>Num_Children</th>\n",
       "      <th>Custody</th>\n",
       "    </tr>\n",
       "  </thead>\n",
       "  <tbody>\n",
       "    <tr>\n",
       "      <th>0</th>\n",
       "      <td>9/6/06</td>\n",
       "      <td>Necesario</td>\n",
       "      <td>MEXICANA</td>\n",
       "      <td>18/12/75</td>\n",
       "      <td>XALAPA - ENRIQUEZ</td>\n",
       "      <td>XALAPA</td>\n",
       "      <td>VERACRUZ</td>\n",
       "      <td>MEXICO</td>\n",
       "      <td>30.0</td>\n",
       "      <td>XALAPA</td>\n",
       "      <td>...</td>\n",
       "      <td>XALAPA</td>\n",
       "      <td>VERACRUZ</td>\n",
       "      <td>SECUNDARIA</td>\n",
       "      <td>OBRERO</td>\n",
       "      <td>SECUNDARIA</td>\n",
       "      <td>EMPLEADO</td>\n",
       "      <td>5.0</td>\n",
       "      <td>NaN</td>\n",
       "      <td>1.0</td>\n",
       "      <td>NaN</td>\n",
       "    </tr>\n",
       "    <tr>\n",
       "      <th>1</th>\n",
       "      <td>1/2/00</td>\n",
       "      <td>Voluntario</td>\n",
       "      <td>MEXICANA</td>\n",
       "      <td>NaN</td>\n",
       "      <td>NaN</td>\n",
       "      <td>NaN</td>\n",
       "      <td>NaN</td>\n",
       "      <td>NaN</td>\n",
       "      <td>47.0</td>\n",
       "      <td>NaN</td>\n",
       "      <td>...</td>\n",
       "      <td>XALAPA</td>\n",
       "      <td>VERACRUZ</td>\n",
       "      <td>PREPARATORIA</td>\n",
       "      <td>ESTABLECIMIENTO</td>\n",
       "      <td>PREPARATORIA</td>\n",
       "      <td>EMPLEADO</td>\n",
       "      <td>NaN</td>\n",
       "      <td>NaN</td>\n",
       "      <td>NaN</td>\n",
       "      <td>NaN</td>\n",
       "    </tr>\n",
       "    <tr>\n",
       "      <th>2</th>\n",
       "      <td>1/2/05</td>\n",
       "      <td>Necesario</td>\n",
       "      <td>MEXICANA</td>\n",
       "      <td>22/2/55</td>\n",
       "      <td>XALAPA - ENRIQUEZ</td>\n",
       "      <td>XALAPA</td>\n",
       "      <td>VERACRUZ</td>\n",
       "      <td>MEXICO</td>\n",
       "      <td>49.0</td>\n",
       "      <td>NaN</td>\n",
       "      <td>...</td>\n",
       "      <td>XALAPA</td>\n",
       "      <td>VERACRUZ</td>\n",
       "      <td>PREPARATORIA</td>\n",
       "      <td>OBRERO</td>\n",
       "      <td>NaN</td>\n",
       "      <td>TRABAJADOR POR CUENTA PROPIA EN VIA PUBLICA</td>\n",
       "      <td>NaN</td>\n",
       "      <td>NaN</td>\n",
       "      <td>NaN</td>\n",
       "      <td>NaN</td>\n",
       "    </tr>\n",
       "    <tr>\n",
       "      <th>3</th>\n",
       "      <td>1/2/06</td>\n",
       "      <td>Necesario</td>\n",
       "      <td>MEXICANA</td>\n",
       "      <td>20/1/64</td>\n",
       "      <td>XALAPA - ENRIQUEZ</td>\n",
       "      <td>XALAPA</td>\n",
       "      <td>VERACRUZ</td>\n",
       "      <td>MEXICO</td>\n",
       "      <td>42.0</td>\n",
       "      <td>XALAPA</td>\n",
       "      <td>...</td>\n",
       "      <td>XALAPA</td>\n",
       "      <td>VERACRUZ</td>\n",
       "      <td>PROFESIONAL</td>\n",
       "      <td>EMPLEADO</td>\n",
       "      <td>PREPARATORIA</td>\n",
       "      <td>EMPLEADO</td>\n",
       "      <td>18.0</td>\n",
       "      <td>NaN</td>\n",
       "      <td>2.0</td>\n",
       "      <td>MADRE</td>\n",
       "    </tr>\n",
       "    <tr>\n",
       "      <th>4</th>\n",
       "      <td>1/2/06</td>\n",
       "      <td>Necesario</td>\n",
       "      <td>MEXICANA</td>\n",
       "      <td>30/10/75</td>\n",
       "      <td>XALAPA - ENRIQUEZ</td>\n",
       "      <td>XALAPA</td>\n",
       "      <td>VERACRUZ</td>\n",
       "      <td>MEXICO</td>\n",
       "      <td>30.0</td>\n",
       "      <td>COATEPEC</td>\n",
       "      <td>...</td>\n",
       "      <td>XALAPA</td>\n",
       "      <td>VERACRUZ</td>\n",
       "      <td>PROFESIONAL</td>\n",
       "      <td>EMPLEADO</td>\n",
       "      <td>PREPARATORIA</td>\n",
       "      <td>NO TRABAJA</td>\n",
       "      <td>7.0</td>\n",
       "      <td>NaN</td>\n",
       "      <td>2.0</td>\n",
       "      <td>MADRE</td>\n",
       "    </tr>\n",
       "    <tr>\n",
       "      <th>...</th>\n",
       "      <td>...</td>\n",
       "      <td>...</td>\n",
       "      <td>...</td>\n",
       "      <td>...</td>\n",
       "      <td>...</td>\n",
       "      <td>...</td>\n",
       "      <td>...</td>\n",
       "      <td>...</td>\n",
       "      <td>...</td>\n",
       "      <td>...</td>\n",
       "      <td>...</td>\n",
       "      <td>...</td>\n",
       "      <td>...</td>\n",
       "      <td>...</td>\n",
       "      <td>...</td>\n",
       "      <td>...</td>\n",
       "      <td>...</td>\n",
       "      <td>...</td>\n",
       "      <td>...</td>\n",
       "      <td>...</td>\n",
       "      <td>...</td>\n",
       "    </tr>\n",
       "    <tr>\n",
       "      <th>4918</th>\n",
       "      <td>31/10/12</td>\n",
       "      <td>Voluntario</td>\n",
       "      <td>MEXICANA</td>\n",
       "      <td>29/10/77</td>\n",
       "      <td>MORELIA</td>\n",
       "      <td>MORELIA</td>\n",
       "      <td>MICHOACAN</td>\n",
       "      <td>MEXICO</td>\n",
       "      <td>35.0</td>\n",
       "      <td>MORELIA</td>\n",
       "      <td>...</td>\n",
       "      <td>XALAPA</td>\n",
       "      <td>VERACRUZ</td>\n",
       "      <td>PROFESIONAL</td>\n",
       "      <td>EMPLEADO</td>\n",
       "      <td>PROFESIONAL</td>\n",
       "      <td>EMPLEADO</td>\n",
       "      <td>3.0</td>\n",
       "      <td>11.0</td>\n",
       "      <td>NaN</td>\n",
       "      <td>NaN</td>\n",
       "    </tr>\n",
       "    <tr>\n",
       "      <th>4919</th>\n",
       "      <td>31/10/13</td>\n",
       "      <td>Voluntario</td>\n",
       "      <td>MEXICANA</td>\n",
       "      <td>10/11/82</td>\n",
       "      <td>VERACRUZ</td>\n",
       "      <td>VERACRUZ</td>\n",
       "      <td>VERACRUZ</td>\n",
       "      <td>MEXICO</td>\n",
       "      <td>30.0</td>\n",
       "      <td>XALAPA</td>\n",
       "      <td>...</td>\n",
       "      <td>XALAPA</td>\n",
       "      <td>VERACRUZ</td>\n",
       "      <td>PROFESIONAL</td>\n",
       "      <td>EMPLEADO</td>\n",
       "      <td>PROFESIONAL</td>\n",
       "      <td>EMPLEADO</td>\n",
       "      <td>1.0</td>\n",
       "      <td>NaN</td>\n",
       "      <td>NaN</td>\n",
       "      <td>NaN</td>\n",
       "    </tr>\n",
       "    <tr>\n",
       "      <th>4920</th>\n",
       "      <td>31/10/13</td>\n",
       "      <td>Voluntario</td>\n",
       "      <td>MEXICANA</td>\n",
       "      <td>28/10/54</td>\n",
       "      <td>XALAPA - ENRIQUEZ</td>\n",
       "      <td>XALAPA</td>\n",
       "      <td>VERACRUZ</td>\n",
       "      <td>MEXICO</td>\n",
       "      <td>59.0</td>\n",
       "      <td>EMILIANO ZAPATA</td>\n",
       "      <td>...</td>\n",
       "      <td>XALAPA</td>\n",
       "      <td>VERACRUZ</td>\n",
       "      <td>PROFESIONAL</td>\n",
       "      <td>EMPLEADO</td>\n",
       "      <td>PROFESIONAL</td>\n",
       "      <td>EMPLEADO</td>\n",
       "      <td>35.0</td>\n",
       "      <td>NaN</td>\n",
       "      <td>2.0</td>\n",
       "      <td>NaN</td>\n",
       "    </tr>\n",
       "    <tr>\n",
       "      <th>4921</th>\n",
       "      <td>31/12/12</td>\n",
       "      <td>Voluntario</td>\n",
       "      <td>MEXICANA</td>\n",
       "      <td>7/2/58</td>\n",
       "      <td>TLAPACOYAN</td>\n",
       "      <td>TLAPACOYAN</td>\n",
       "      <td>VERACRUZ</td>\n",
       "      <td>MEXICO</td>\n",
       "      <td>54.0</td>\n",
       "      <td>XALAPA</td>\n",
       "      <td>...</td>\n",
       "      <td>TLAPACOYAN</td>\n",
       "      <td>VERACRUZ</td>\n",
       "      <td>PREPARATORIA</td>\n",
       "      <td>NaN</td>\n",
       "      <td>PRIMARIA</td>\n",
       "      <td>NO TRABAJA</td>\n",
       "      <td>33.0</td>\n",
       "      <td>NaN</td>\n",
       "      <td>2.0</td>\n",
       "      <td>NaN</td>\n",
       "    </tr>\n",
       "    <tr>\n",
       "      <th>4922</th>\n",
       "      <td>31/12/13</td>\n",
       "      <td>Voluntario</td>\n",
       "      <td>MEXICANA</td>\n",
       "      <td>22/6/60</td>\n",
       "      <td>TLACOTALPAN</td>\n",
       "      <td>TLACOTALPAN</td>\n",
       "      <td>VERACRUZ</td>\n",
       "      <td>MEXICO</td>\n",
       "      <td>53.0</td>\n",
       "      <td>XALAPA</td>\n",
       "      <td>...</td>\n",
       "      <td>COATEPEC</td>\n",
       "      <td>VERACRUZ</td>\n",
       "      <td>PROFESIONAL</td>\n",
       "      <td>EMPLEADO</td>\n",
       "      <td>PROFESIONAL</td>\n",
       "      <td>EMPLEADO</td>\n",
       "      <td>4.0</td>\n",
       "      <td>NaN</td>\n",
       "      <td>NaN</td>\n",
       "      <td>NaN</td>\n",
       "    </tr>\n",
       "  </tbody>\n",
       "</table>\n",
       "<p>4923 rows × 41 columns</p>\n",
       "</div>"
      ],
      "text/plain": [
       "     Divorce_date Type_of_divorce Nationality_partner_man DOB_partner_man  \\\n",
       "0          9/6/06       Necesario                MEXICANA        18/12/75   \n",
       "1          1/2/00      Voluntario                MEXICANA             NaN   \n",
       "2          1/2/05       Necesario                MEXICANA         22/2/55   \n",
       "3          1/2/06       Necesario                MEXICANA         20/1/64   \n",
       "4          1/2/06       Necesario                MEXICANA        30/10/75   \n",
       "...           ...             ...                     ...             ...   \n",
       "4918     31/10/12      Voluntario                MEXICANA        29/10/77   \n",
       "4919     31/10/13      Voluntario                MEXICANA        10/11/82   \n",
       "4920     31/10/13      Voluntario                MEXICANA        28/10/54   \n",
       "4921     31/12/12      Voluntario                MEXICANA          7/2/58   \n",
       "4922     31/12/13      Voluntario                MEXICANA         22/6/60   \n",
       "\n",
       "     Place_of_birth_partner_man Birth_municipality_of_partner_man  \\\n",
       "0             XALAPA - ENRIQUEZ                            XALAPA   \n",
       "1                           NaN                               NaN   \n",
       "2             XALAPA - ENRIQUEZ                            XALAPA   \n",
       "3             XALAPA - ENRIQUEZ                            XALAPA   \n",
       "4             XALAPA - ENRIQUEZ                            XALAPA   \n",
       "...                         ...                               ...   \n",
       "4918                    MORELIA                           MORELIA   \n",
       "4919                   VERACRUZ                          VERACRUZ   \n",
       "4920          XALAPA - ENRIQUEZ                            XALAPA   \n",
       "4921                 TLAPACOYAN                        TLAPACOYAN   \n",
       "4922                TLACOTALPAN                       TLACOTALPAN   \n",
       "\n",
       "     Birth_federal_partner_man Birth_country_partner_man  Age_partner_man  \\\n",
       "0                     VERACRUZ                    MEXICO             30.0   \n",
       "1                          NaN                       NaN             47.0   \n",
       "2                     VERACRUZ                    MEXICO             49.0   \n",
       "3                     VERACRUZ                    MEXICO             42.0   \n",
       "4                     VERACRUZ                    MEXICO             30.0   \n",
       "...                        ...                       ...              ...   \n",
       "4918                 MICHOACAN                    MEXICO             35.0   \n",
       "4919                  VERACRUZ                    MEXICO             30.0   \n",
       "4920                  VERACRUZ                    MEXICO             59.0   \n",
       "4921                  VERACRUZ                    MEXICO             54.0   \n",
       "4922                  VERACRUZ                    MEXICO             53.0   \n",
       "\n",
       "     Residence_municipality_partner_man  ...  \\\n",
       "0                                XALAPA  ...   \n",
       "1                                   NaN  ...   \n",
       "2                                   NaN  ...   \n",
       "3                                XALAPA  ...   \n",
       "4                              COATEPEC  ...   \n",
       "...                                 ...  ...   \n",
       "4918                            MORELIA  ...   \n",
       "4919                             XALAPA  ...   \n",
       "4920                    EMILIANO ZAPATA  ...   \n",
       "4921                             XALAPA  ...   \n",
       "4922                             XALAPA  ...   \n",
       "\n",
       "     Marriage_certificate_municipality Marriage_certificate_federal  \\\n",
       "0                               XALAPA                     VERACRUZ   \n",
       "1                               XALAPA                     VERACRUZ   \n",
       "2                               XALAPA                     VERACRUZ   \n",
       "3                               XALAPA                     VERACRUZ   \n",
       "4                               XALAPA                     VERACRUZ   \n",
       "...                                ...                          ...   \n",
       "4918                            XALAPA                     VERACRUZ   \n",
       "4919                            XALAPA                     VERACRUZ   \n",
       "4920                            XALAPA                     VERACRUZ   \n",
       "4921                        TLAPACOYAN                     VERACRUZ   \n",
       "4922                          COATEPEC                     VERACRUZ   \n",
       "\n",
       "      Level_of_education_partner_man Employment_status_partner_man  \\\n",
       "0                         SECUNDARIA                        OBRERO   \n",
       "1                       PREPARATORIA               ESTABLECIMIENTO   \n",
       "2                       PREPARATORIA                        OBRERO   \n",
       "3                        PROFESIONAL                      EMPLEADO   \n",
       "4                        PROFESIONAL                      EMPLEADO   \n",
       "...                              ...                           ...   \n",
       "4918                     PROFESIONAL                      EMPLEADO   \n",
       "4919                     PROFESIONAL                      EMPLEADO   \n",
       "4920                     PROFESIONAL                      EMPLEADO   \n",
       "4921                    PREPARATORIA                           NaN   \n",
       "4922                     PROFESIONAL                      EMPLEADO   \n",
       "\n",
       "     Level_of_education_partner_woman  \\\n",
       "0                          SECUNDARIA   \n",
       "1                        PREPARATORIA   \n",
       "2                                 NaN   \n",
       "3                        PREPARATORIA   \n",
       "4                        PREPARATORIA   \n",
       "...                               ...   \n",
       "4918                      PROFESIONAL   \n",
       "4919                      PROFESIONAL   \n",
       "4920                      PROFESIONAL   \n",
       "4921                         PRIMARIA   \n",
       "4922                      PROFESIONAL   \n",
       "\n",
       "                   Employment_status_partner_woman Marriage_duration  \\\n",
       "0                                         EMPLEADO               5.0   \n",
       "1                                         EMPLEADO               NaN   \n",
       "2     TRABAJADOR POR CUENTA PROPIA EN VIA PUBLICA                NaN   \n",
       "3                                         EMPLEADO              18.0   \n",
       "4                                       NO TRABAJA               7.0   \n",
       "...                                            ...               ...   \n",
       "4918                                      EMPLEADO               3.0   \n",
       "4919                                      EMPLEADO               1.0   \n",
       "4920                                      EMPLEADO              35.0   \n",
       "4921                                    NO TRABAJA              33.0   \n",
       "4922                                      EMPLEADO               4.0   \n",
       "\n",
       "     Marriage_duration_months Num_Children Custody  \n",
       "0                         NaN          1.0     NaN  \n",
       "1                         NaN          NaN     NaN  \n",
       "2                         NaN          NaN     NaN  \n",
       "3                         NaN          2.0   MADRE  \n",
       "4                         NaN          2.0   MADRE  \n",
       "...                       ...          ...     ...  \n",
       "4918                     11.0          NaN     NaN  \n",
       "4919                      NaN          NaN     NaN  \n",
       "4920                      NaN          2.0     NaN  \n",
       "4921                      NaN          2.0     NaN  \n",
       "4922                      NaN          NaN     NaN  \n",
       "\n",
       "[4923 rows x 41 columns]"
      ]
     },
     "execution_count": 2,
     "metadata": {},
     "output_type": "execute_result"
    }
   ],
   "source": [
    "#to see the data items\n",
    "divorce_data = pd.read_csv('/kaggle/input/divorcemarriage-dataset-with-birth-dates/divorces_2000-2015_translated.csv')\n",
    "\n",
    "divorce_data"
   ]
  },
  {
   "cell_type": "markdown",
   "metadata": {
    "papermill": {
     "duration": 0.030537,
     "end_time": "2020-11-22T13:37:11.136908",
     "exception": false,
     "start_time": "2020-11-22T13:37:11.106371",
     "status": "completed"
    },
    "tags": []
   },
   "source": [
    "We see that there are many features for both divorced partners (males and females) and that is good. While some features like divorce, marriage date, monthly income, residence, profession - might potentially be useful, but for this warm-up exercise we want to focus on the zodiac signs and for that, we would only need the birth dates which are: \n",
    "\n",
    "**'DOB_partner_man'**  \n",
    "**'DOB_partner_woman'**\n",
    "\n",
    "Other features might be used in other problems/data explorations in the later notebooks. "
   ]
  },
  {
   "cell_type": "code",
   "execution_count": 3,
   "metadata": {
    "execution": {
     "iopub.execute_input": "2020-11-22T13:37:11.211722Z",
     "iopub.status.busy": "2020-11-22T13:37:11.210816Z",
     "iopub.status.idle": "2020-11-22T13:37:11.215150Z",
     "shell.execute_reply": "2020-11-22T13:37:11.214396Z"
    },
    "papermill": {
     "duration": 0.047297,
     "end_time": "2020-11-22T13:37:11.215273",
     "exception": false,
     "start_time": "2020-11-22T13:37:11.167976",
     "status": "completed"
    },
    "tags": []
   },
   "outputs": [
    {
     "data": {
      "text/plain": [
       "<bound method NDFrame.head of      DOB_partner_man DOB_partner_woman\n",
       "0           18/12/75            8/1/83\n",
       "1                NaN               NaN\n",
       "2            22/2/55           21/3/47\n",
       "3            20/1/64               NaN\n",
       "4           30/10/75          13/10/78\n",
       "...              ...               ...\n",
       "4918        29/10/77           12/1/78\n",
       "4919        10/11/82            9/2/81\n",
       "4920        28/10/54           17/2/57\n",
       "4921          7/2/58           27/1/64\n",
       "4922         22/6/60           22/1/72\n",
       "\n",
       "[4923 rows x 2 columns]>"
      ]
     },
     "execution_count": 3,
     "metadata": {},
     "output_type": "execute_result"
    }
   ],
   "source": [
    "#dropping all coloumns except partners' birth dates\n",
    "divorce_data.drop(divorce_data.columns.difference(['DOB_partner_man','DOB_partner_woman']), 1, inplace=True)\n",
    "\n",
    "divorce_data.head"
   ]
  },
  {
   "cell_type": "markdown",
   "metadata": {
    "papermill": {
     "duration": 0.030556,
     "end_time": "2020-11-22T13:37:11.276812",
     "exception": false,
     "start_time": "2020-11-22T13:37:11.246256",
     "status": "completed"
    },
    "tags": []
   },
   "source": [
    "Ok, now we've got our dataset with the DOBs only that contain 4,923 divorces\n",
    "\n",
    "But if we look into the data we see that there are some missing values. Let's run the heatmap for those values "
   ]
  },
  {
   "cell_type": "code",
   "execution_count": 4,
   "metadata": {
    "execution": {
     "iopub.execute_input": "2020-11-22T13:37:11.347766Z",
     "iopub.status.busy": "2020-11-22T13:37:11.346954Z",
     "iopub.status.idle": "2020-11-22T13:37:11.710722Z",
     "shell.execute_reply": "2020-11-22T13:37:11.711290Z"
    },
    "papermill": {
     "duration": 0.403711,
     "end_time": "2020-11-22T13:37:11.711460",
     "exception": false,
     "start_time": "2020-11-22T13:37:11.307749",
     "status": "completed"
    },
    "tags": []
   },
   "outputs": [
    {
     "data": {
      "text/plain": [
       "<matplotlib.axes._subplots.AxesSubplot at 0x7f81bf059d50>"
      ]
     },
     "execution_count": 4,
     "metadata": {},
     "output_type": "execute_result"
    },
    {
     "data": {
      "image/png": "[encoded data removed]",
      "text/plain": [
       "<Figure size 432x288 with 2 Axes>"
      ]
     },
     "metadata": {
      "needs_background": "light"
     },
     "output_type": "display_data"
    }
   ],
   "source": [
    "#heatmap for missing values\n",
    "sns.heatmap(divorce_data.isnull())"
   ]
  },
  {
   "cell_type": "markdown",
   "metadata": {
    "papermill": {
     "duration": 0.032941,
     "end_time": "2020-11-22T13:37:11.778168",
     "exception": false,
     "start_time": "2020-11-22T13:37:11.745227",
     "status": "completed"
    },
    "tags": []
   },
   "source": [
    "Since the variable we're missing is the birth date - we cannot substitute any of these observations because we need the exact DOB for both partners in order to determine the zodiac sign\n",
    "\n",
    "So the only way is to get rid of all missing observations"
   ]
  },
  {
   "cell_type": "code",
   "execution_count": 5,
   "metadata": {
    "execution": {
     "iopub.execute_input": "2020-11-22T13:37:11.851904Z",
     "iopub.status.busy": "2020-11-22T13:37:11.851141Z",
     "iopub.status.idle": "2020-11-22T13:37:12.193510Z",
     "shell.execute_reply": "2020-11-22T13:37:12.194209Z"
    },
    "papermill": {
     "duration": 0.383208,
     "end_time": "2020-11-22T13:37:12.194363",
     "exception": false,
     "start_time": "2020-11-22T13:37:11.811155",
     "status": "completed"
    },
    "tags": []
   },
   "outputs": [
    {
     "data": {
      "text/plain": [
       "<bound method NDFrame.head of      DOB_partner_man DOB_partner_woman\n",
       "0           18/12/75            8/1/83\n",
       "2            22/2/55           21/3/47\n",
       "4           30/10/75          13/10/78\n",
       "5            28/3/73           14/6/76\n",
       "6           13/12/70           4/11/71\n",
       "...              ...               ...\n",
       "4918        29/10/77           12/1/78\n",
       "4919        10/11/82            9/2/81\n",
       "4920        28/10/54           17/2/57\n",
       "4921          7/2/58           27/1/64\n",
       "4922         22/6/60           22/1/72\n",
       "\n",
       "[4374 rows x 2 columns]>"
      ]
     },
     "execution_count": 5,
     "metadata": {},
     "output_type": "execute_result"
    },
    {
     "data": {
      "image/png": "[encoded data removed]",
      "text/plain": [
       "<Figure size 432x288 with 2 Axes>"
      ]
     },
     "metadata": {
      "needs_background": "light"
     },
     "output_type": "display_data"
    }
   ],
   "source": [
    "#deleting all missing observations\n",
    "divorce_data = divorce_data.dropna()\n",
    "\n",
    "#cheking clean data\n",
    "sns.heatmap(divorce_data.isnull())\n",
    "\n",
    "divorce_data.head"
   ]
  },
  {
   "cell_type": "markdown",
   "metadata": {
    "papermill": {
     "duration": 0.034551,
     "end_time": "2020-11-22T13:37:12.263285",
     "exception": false,
     "start_time": "2020-11-22T13:37:12.228734",
     "status": "completed"
    },
    "tags": []
   },
   "source": [
    "Cool, now we have a clean DOB coloums with 4,374 observations left, still pretty good. Let's check out their data types"
   ]
  },
  {
   "cell_type": "code",
   "execution_count": 6,
   "metadata": {
    "execution": {
     "iopub.execute_input": "2020-11-22T13:37:12.347835Z",
     "iopub.status.busy": "2020-11-22T13:37:12.346919Z",
     "iopub.status.idle": "2020-11-22T13:37:12.351038Z",
     "shell.execute_reply": "2020-11-22T13:37:12.350321Z"
    },
    "papermill": {
     "duration": 0.053005,
     "end_time": "2020-11-22T13:37:12.351161",
     "exception": false,
     "start_time": "2020-11-22T13:37:12.298156",
     "status": "completed"
    },
    "tags": []
   },
   "outputs": [
    {
     "name": "stdout",
     "output_type": "stream",
     "text": [
      "<class 'pandas.core.frame.DataFrame'>\n",
      "Int64Index: 4374 entries, 0 to 4922\n",
      "Data columns (total 2 columns):\n",
      " #   Column             Non-Null Count  Dtype \n",
      "---  ------             --------------  ----- \n",
      " 0   DOB_partner_man    4374 non-null   object\n",
      " 1   DOB_partner_woman  4374 non-null   object\n",
      "dtypes: object(2)\n",
      "memory usage: 102.5+ KB\n"
     ]
    }
   ],
   "source": [
    "#cheking data types \n",
    "divorce_data.info()"
   ]
  },
  {
   "cell_type": "markdown",
   "metadata": {
    "papermill": {
     "duration": 0.034686,
     "end_time": "2020-11-22T13:37:12.420531",
     "exception": false,
     "start_time": "2020-11-22T13:37:12.385845",
     "status": "completed"
    },
    "tags": []
   },
   "source": [
    "Looks like DOB is an object and given that we need to use these dates for our analysis, we need to convert them into the date format.\n",
    "\n",
    "The problem is that the date format in the original dataset is in a DD/MM/YY, which might be quite inconvenient to work with\n",
    "\n",
    "But since we don't really need years, as we only need day and month in order to determine the zodiac sign, we can get the required fields first and then just get rid of years"
   ]
  },
  {
   "cell_type": "code",
   "execution_count": 7,
   "metadata": {
    "execution": {
     "iopub.execute_input": "2020-11-22T13:37:12.503003Z",
     "iopub.status.busy": "2020-11-22T13:37:12.502154Z",
     "iopub.status.idle": "2020-11-22T13:37:13.531154Z",
     "shell.execute_reply": "2020-11-22T13:37:13.531767Z"
    },
    "papermill": {
     "duration": 1.076437,
     "end_time": "2020-11-22T13:37:13.531924",
     "exception": false,
     "start_time": "2020-11-22T13:37:12.455487",
     "status": "completed"
    },
    "tags": []
   },
   "outputs": [
    {
     "name": "stderr",
     "output_type": "stream",
     "text": [
      "/opt/conda/lib/python3.7/site-packages/pandas/core/frame.py:3065: SettingWithCopyWarning: \n",
      "A value is trying to be set on a copy of a slice from a DataFrame.\n",
      "Try using .loc[row_indexer,col_indexer] = value instead\n",
      "\n",
      "See the caveats in the documentation: https://pandas.pydata.org/pandas-docs/stable/user_guide/indexing.html#returning-a-view-versus-a-copy\n",
      "  self[k1] = value[k2]\n",
      "/opt/conda/lib/python3.7/site-packages/ipykernel_launcher.py:5: SettingWithCopyWarning: \n",
      "A value is trying to be set on a copy of a slice from a DataFrame.\n",
      "Try using .loc[row_indexer,col_indexer] = value instead\n",
      "\n",
      "See the caveats in the documentation: https://pandas.pydata.org/pandas-docs/stable/user_guide/indexing.html#returning-a-view-versus-a-copy\n",
      "  \"\"\"\n",
      "/opt/conda/lib/python3.7/site-packages/ipykernel_launcher.py:6: SettingWithCopyWarning: \n",
      "A value is trying to be set on a copy of a slice from a DataFrame.\n",
      "Try using .loc[row_indexer,col_indexer] = value instead\n",
      "\n",
      "See the caveats in the documentation: https://pandas.pydata.org/pandas-docs/stable/user_guide/indexing.html#returning-a-view-versus-a-copy\n",
      "  \n"
     ]
    },
    {
     "data": {
      "text/html": [
       "<div>\n",
       "<style scoped>\n",
       "    .dataframe tbody tr th:only-of-type {\n",
       "        vertical-align: middle;\n",
       "    }\n",
       "\n",
       "    .dataframe tbody tr th {\n",
       "        vertical-align: top;\n",
       "    }\n",
       "\n",
       "    .dataframe thead th {\n",
       "        text-align: right;\n",
       "    }\n",
       "</style>\n",
       "<table border=\"1\" class=\"dataframe\">\n",
       "  <thead>\n",
       "    <tr style=\"text-align: right;\">\n",
       "      <th></th>\n",
       "      <th>day_partner_1</th>\n",
       "      <th>month_partner_1</th>\n",
       "      <th>day_partner_2</th>\n",
       "      <th>month_partner_2</th>\n",
       "    </tr>\n",
       "  </thead>\n",
       "  <tbody>\n",
       "    <tr>\n",
       "      <th>0</th>\n",
       "      <td>18</td>\n",
       "      <td>12</td>\n",
       "      <td>1</td>\n",
       "      <td>8</td>\n",
       "    </tr>\n",
       "    <tr>\n",
       "      <th>2</th>\n",
       "      <td>22</td>\n",
       "      <td>2</td>\n",
       "      <td>21</td>\n",
       "      <td>3</td>\n",
       "    </tr>\n",
       "    <tr>\n",
       "      <th>4</th>\n",
       "      <td>30</td>\n",
       "      <td>10</td>\n",
       "      <td>13</td>\n",
       "      <td>10</td>\n",
       "    </tr>\n",
       "    <tr>\n",
       "      <th>5</th>\n",
       "      <td>28</td>\n",
       "      <td>3</td>\n",
       "      <td>14</td>\n",
       "      <td>6</td>\n",
       "    </tr>\n",
       "    <tr>\n",
       "      <th>6</th>\n",
       "      <td>13</td>\n",
       "      <td>12</td>\n",
       "      <td>11</td>\n",
       "      <td>4</td>\n",
       "    </tr>\n",
       "    <tr>\n",
       "      <th>7</th>\n",
       "      <td>17</td>\n",
       "      <td>2</td>\n",
       "      <td>27</td>\n",
       "      <td>8</td>\n",
       "    </tr>\n",
       "    <tr>\n",
       "      <th>8</th>\n",
       "      <td>12</td>\n",
       "      <td>2</td>\n",
       "      <td>1</td>\n",
       "      <td>3</td>\n",
       "    </tr>\n",
       "    <tr>\n",
       "      <th>9</th>\n",
       "      <td>17</td>\n",
       "      <td>11</td>\n",
       "      <td>13</td>\n",
       "      <td>3</td>\n",
       "    </tr>\n",
       "    <tr>\n",
       "      <th>10</th>\n",
       "      <td>6</td>\n",
       "      <td>4</td>\n",
       "      <td>16</td>\n",
       "      <td>2</td>\n",
       "    </tr>\n",
       "    <tr>\n",
       "      <th>11</th>\n",
       "      <td>13</td>\n",
       "      <td>11</td>\n",
       "      <td>13</td>\n",
       "      <td>5</td>\n",
       "    </tr>\n",
       "  </tbody>\n",
       "</table>\n",
       "</div>"
      ],
      "text/plain": [
       "    day_partner_1  month_partner_1  day_partner_2  month_partner_2\n",
       "0              18               12              1                8\n",
       "2              22                2             21                3\n",
       "4              30               10             13               10\n",
       "5              28                3             14                6\n",
       "6              13               12             11                4\n",
       "7              17                2             27                8\n",
       "8              12                2              1                3\n",
       "9              17               11             13                3\n",
       "10              6                4             16                2\n",
       "11             13               11             13                5"
      ]
     },
     "execution_count": 7,
     "metadata": {},
     "output_type": "execute_result"
    }
   ],
   "source": [
    "#set the right format for DOB columns \n",
    "divorce_data[['DOB_partner_man', 'DOB_partner_woman']] = divorce_data[['DOB_partner_man', 'DOB_partner_woman']].apply(pd.to_datetime)\n",
    "\n",
    "#getting the day and month separately for both partners\n",
    "divorce_data['day_partner_1'], divorce_data['month_partner_1'] = divorce_data['DOB_partner_man'].apply(lambda x: x.day), divorce_data['DOB_partner_man'].apply(lambda x: x.month)\n",
    "divorce_data['day_partner_2'], divorce_data['month_partner_2'] = divorce_data['DOB_partner_woman'].apply(lambda x: x.day), divorce_data['DOB_partner_woman'].apply(lambda x: x.month)\n",
    "\n",
    "#get rid of the DOB col as we don't need years\n",
    "divorce_data = divorce_data.drop(['DOB_partner_man', 'DOB_partner_woman'], axis=1)\n",
    "\n",
    "divorce_data.head(10)"
   ]
  },
  {
   "cell_type": "markdown",
   "metadata": {
    "papermill": {
     "duration": 0.035363,
     "end_time": "2020-11-22T13:37:13.603224",
     "exception": false,
     "start_time": "2020-11-22T13:37:13.567861",
     "status": "completed"
    },
    "tags": []
   },
   "source": [
    "Cool, now we only have the month and date cols that are good to go for the zodiac sign determination. \n",
    "\n",
    "Generally, there are 12 zodiac signs and some astrologists argue for the 13th one, but for the simplicity of this exercise, we would take the majority of astrologists' view and take the 12 signs set-up. Here they are:\n",
    "\n",
    "\n",
    "\n",
    "![](https://vietnamtimes.org.vn/stores/news_dataimages/dieulinhvnt/092020/24/16/medium/5403_Zodiacs-improved.png)\n",
    "\n"
   ]
  },
  {
   "cell_type": "markdown",
   "metadata": {
    "papermill": {
     "duration": 0.035546,
     "end_time": "2020-11-22T13:37:13.674653",
     "exception": false,
     "start_time": "2020-11-22T13:37:13.639107",
     "status": "completed"
    },
    "tags": []
   },
   "source": [
    "Let's create a function and turn all birth dates into the actual zodiac signs"
   ]
  },
  {
   "cell_type": "code",
   "execution_count": 8,
   "metadata": {
    "execution": {
     "iopub.execute_input": "2020-11-22T13:37:13.760280Z",
     "iopub.status.busy": "2020-11-22T13:37:13.755145Z",
     "iopub.status.idle": "2020-11-22T13:37:13.763967Z",
     "shell.execute_reply": "2020-11-22T13:37:13.763196Z"
    },
    "papermill": {
     "duration": 0.053633,
     "end_time": "2020-11-22T13:37:13.764094",
     "exception": false,
     "start_time": "2020-11-22T13:37:13.710461",
     "status": "completed"
    },
    "tags": []
   },
   "outputs": [],
   "source": [
    "# function for the zodiac sign determination\n",
    "\n",
    "def zodiac_sign(day, month): \n",
    "    \n",
    "    if month == 12: \n",
    "        return 'Sagittarius' if (day < 22) else 'Capricorn'\n",
    "\n",
    "    elif month == 1: \n",
    "        return 'Capricorn' if (day < 20) else 'Aquarius'\n",
    "\n",
    "    elif month == 2: \n",
    "        return 'Aquarius' if (day < 19) else 'Pisces'\n",
    "\n",
    "    elif month == 3: \n",
    "        return 'Pisces' if (day < 21) else 'Aries'\n",
    "\n",
    "    elif month == 4: \n",
    "        return 'Aries' if (day < 20) else 'Taurus'\n",
    "\n",
    "    elif month == 5: \n",
    "        return 'Taurus' if (day < 21) else 'Gemini'\n",
    "\n",
    "    elif month == 6: \n",
    "        return 'Gemini' if (day < 21) else 'Cancer'\n",
    "\n",
    "    elif month == 7: \n",
    "        return 'Cancer' if (day < 23) else 'Leo'\n",
    "\n",
    "    elif month == 8: \n",
    "        return 'Leo' if (day < 23) else 'Virgo'\n",
    "\n",
    "    elif month == 9: \n",
    "        return 'Virgo' if (day < 23) else 'Libra'\n",
    "\n",
    "    elif month == 10: \n",
    "        return 'Libra' if (day < 23) else 'Scorpio'\n",
    "\n",
    "    elif month == 11: \n",
    "        return 'Scorpio' if (day < 22) else 'Sagittarius'"
   ]
  },
  {
   "cell_type": "code",
   "execution_count": 9,
   "metadata": {
    "execution": {
     "iopub.execute_input": "2020-11-22T13:37:13.875601Z",
     "iopub.status.busy": "2020-11-22T13:37:13.865393Z",
     "iopub.status.idle": "2020-11-22T13:37:14.050982Z",
     "shell.execute_reply": "2020-11-22T13:37:14.050196Z"
    },
    "papermill": {
     "duration": 0.250804,
     "end_time": "2020-11-22T13:37:14.051108",
     "exception": false,
     "start_time": "2020-11-22T13:37:13.800304",
     "status": "completed"
    },
    "tags": []
   },
   "outputs": [],
   "source": [
    "#creating additional cols for zodiac signs for both partners\n",
    "\n",
    "divorce_data['Zod_sign_partner_1'] = divorce_data.apply(lambda x: zodiac_sign(x['day_partner_1'], x['month_partner_1']), axis=1)\n",
    "divorce_data['Zod_sign_partner_2'] = divorce_data.apply(lambda x: zodiac_sign(x['day_partner_2'], x['month_partner_2']), axis=1)\n"
   ]
  },
  {
   "cell_type": "code",
   "execution_count": 10,
   "metadata": {
    "execution": {
     "iopub.execute_input": "2020-11-22T13:37:14.139825Z",
     "iopub.status.busy": "2020-11-22T13:37:14.138944Z",
     "iopub.status.idle": "2020-11-22T13:37:14.143430Z",
     "shell.execute_reply": "2020-11-22T13:37:14.142832Z"
    },
    "papermill": {
     "duration": 0.054974,
     "end_time": "2020-11-22T13:37:14.143551",
     "exception": false,
     "start_time": "2020-11-22T13:37:14.088577",
     "status": "completed"
    },
    "tags": []
   },
   "outputs": [
    {
     "data": {
      "text/html": [
       "<div>\n",
       "<style scoped>\n",
       "    .dataframe tbody tr th:only-of-type {\n",
       "        vertical-align: middle;\n",
       "    }\n",
       "\n",
       "    .dataframe tbody tr th {\n",
       "        vertical-align: top;\n",
       "    }\n",
       "\n",
       "    .dataframe thead th {\n",
       "        text-align: right;\n",
       "    }\n",
       "</style>\n",
       "<table border=\"1\" class=\"dataframe\">\n",
       "  <thead>\n",
       "    <tr style=\"text-align: right;\">\n",
       "      <th></th>\n",
       "      <th>day_partner_1</th>\n",
       "      <th>month_partner_1</th>\n",
       "      <th>day_partner_2</th>\n",
       "      <th>month_partner_2</th>\n",
       "      <th>Zod_sign_partner_1</th>\n",
       "      <th>Zod_sign_partner_2</th>\n",
       "    </tr>\n",
       "  </thead>\n",
       "  <tbody>\n",
       "    <tr>\n",
       "      <th>0</th>\n",
       "      <td>18</td>\n",
       "      <td>12</td>\n",
       "      <td>1</td>\n",
       "      <td>8</td>\n",
       "      <td>Sagittarius</td>\n",
       "      <td>Leo</td>\n",
       "    </tr>\n",
       "    <tr>\n",
       "      <th>2</th>\n",
       "      <td>22</td>\n",
       "      <td>2</td>\n",
       "      <td>21</td>\n",
       "      <td>3</td>\n",
       "      <td>Pisces</td>\n",
       "      <td>Aries</td>\n",
       "    </tr>\n",
       "    <tr>\n",
       "      <th>4</th>\n",
       "      <td>30</td>\n",
       "      <td>10</td>\n",
       "      <td>13</td>\n",
       "      <td>10</td>\n",
       "      <td>Scorpio</td>\n",
       "      <td>Libra</td>\n",
       "    </tr>\n",
       "    <tr>\n",
       "      <th>5</th>\n",
       "      <td>28</td>\n",
       "      <td>3</td>\n",
       "      <td>14</td>\n",
       "      <td>6</td>\n",
       "      <td>Aries</td>\n",
       "      <td>Gemini</td>\n",
       "    </tr>\n",
       "    <tr>\n",
       "      <th>6</th>\n",
       "      <td>13</td>\n",
       "      <td>12</td>\n",
       "      <td>11</td>\n",
       "      <td>4</td>\n",
       "      <td>Sagittarius</td>\n",
       "      <td>Aries</td>\n",
       "    </tr>\n",
       "    <tr>\n",
       "      <th>7</th>\n",
       "      <td>17</td>\n",
       "      <td>2</td>\n",
       "      <td>27</td>\n",
       "      <td>8</td>\n",
       "      <td>Aquarius</td>\n",
       "      <td>Virgo</td>\n",
       "    </tr>\n",
       "    <tr>\n",
       "      <th>8</th>\n",
       "      <td>12</td>\n",
       "      <td>2</td>\n",
       "      <td>1</td>\n",
       "      <td>3</td>\n",
       "      <td>Aquarius</td>\n",
       "      <td>Pisces</td>\n",
       "    </tr>\n",
       "    <tr>\n",
       "      <th>9</th>\n",
       "      <td>17</td>\n",
       "      <td>11</td>\n",
       "      <td>13</td>\n",
       "      <td>3</td>\n",
       "      <td>Scorpio</td>\n",
       "      <td>Pisces</td>\n",
       "    </tr>\n",
       "    <tr>\n",
       "      <th>10</th>\n",
       "      <td>6</td>\n",
       "      <td>4</td>\n",
       "      <td>16</td>\n",
       "      <td>2</td>\n",
       "      <td>Aries</td>\n",
       "      <td>Aquarius</td>\n",
       "    </tr>\n",
       "    <tr>\n",
       "      <th>11</th>\n",
       "      <td>13</td>\n",
       "      <td>11</td>\n",
       "      <td>13</td>\n",
       "      <td>5</td>\n",
       "      <td>Scorpio</td>\n",
       "      <td>Taurus</td>\n",
       "    </tr>\n",
       "  </tbody>\n",
       "</table>\n",
       "</div>"
      ],
      "text/plain": [
       "    day_partner_1  month_partner_1  day_partner_2  month_partner_2  \\\n",
       "0              18               12              1                8   \n",
       "2              22                2             21                3   \n",
       "4              30               10             13               10   \n",
       "5              28                3             14                6   \n",
       "6              13               12             11                4   \n",
       "7              17                2             27                8   \n",
       "8              12                2              1                3   \n",
       "9              17               11             13                3   \n",
       "10              6                4             16                2   \n",
       "11             13               11             13                5   \n",
       "\n",
       "   Zod_sign_partner_1 Zod_sign_partner_2  \n",
       "0         Sagittarius                Leo  \n",
       "2              Pisces              Aries  \n",
       "4             Scorpio              Libra  \n",
       "5               Aries             Gemini  \n",
       "6         Sagittarius              Aries  \n",
       "7            Aquarius              Virgo  \n",
       "8            Aquarius             Pisces  \n",
       "9             Scorpio             Pisces  \n",
       "10              Aries           Aquarius  \n",
       "11            Scorpio             Taurus  "
      ]
     },
     "execution_count": 10,
     "metadata": {},
     "output_type": "execute_result"
    }
   ],
   "source": [
    "#checking our zodiac signs do make sense\n",
    "divorce_data.head(10)"
   ]
  },
  {
   "cell_type": "code",
   "execution_count": 11,
   "metadata": {
    "execution": {
     "iopub.execute_input": "2020-11-22T13:37:14.232442Z",
     "iopub.status.busy": "2020-11-22T13:37:14.231519Z",
     "iopub.status.idle": "2020-11-22T13:37:14.235932Z",
     "shell.execute_reply": "2020-11-22T13:37:14.236572Z"
    },
    "papermill": {
     "duration": 0.056097,
     "end_time": "2020-11-22T13:37:14.236769",
     "exception": false,
     "start_time": "2020-11-22T13:37:14.180672",
     "status": "completed"
    },
    "tags": []
   },
   "outputs": [
    {
     "data": {
      "text/html": [
       "<div>\n",
       "<style scoped>\n",
       "    .dataframe tbody tr th:only-of-type {\n",
       "        vertical-align: middle;\n",
       "    }\n",
       "\n",
       "    .dataframe tbody tr th {\n",
       "        vertical-align: top;\n",
       "    }\n",
       "\n",
       "    .dataframe thead th {\n",
       "        text-align: right;\n",
       "    }\n",
       "</style>\n",
       "<table border=\"1\" class=\"dataframe\">\n",
       "  <thead>\n",
       "    <tr style=\"text-align: right;\">\n",
       "      <th></th>\n",
       "      <th>Zod_sign_partner_1</th>\n",
       "      <th>Zod_sign_partner_2</th>\n",
       "    </tr>\n",
       "  </thead>\n",
       "  <tbody>\n",
       "    <tr>\n",
       "      <th>0</th>\n",
       "      <td>Sagittarius</td>\n",
       "      <td>Leo</td>\n",
       "    </tr>\n",
       "    <tr>\n",
       "      <th>2</th>\n",
       "      <td>Pisces</td>\n",
       "      <td>Aries</td>\n",
       "    </tr>\n",
       "    <tr>\n",
       "      <th>4</th>\n",
       "      <td>Scorpio</td>\n",
       "      <td>Libra</td>\n",
       "    </tr>\n",
       "    <tr>\n",
       "      <th>5</th>\n",
       "      <td>Aries</td>\n",
       "      <td>Gemini</td>\n",
       "    </tr>\n",
       "    <tr>\n",
       "      <th>6</th>\n",
       "      <td>Sagittarius</td>\n",
       "      <td>Aries</td>\n",
       "    </tr>\n",
       "    <tr>\n",
       "      <th>7</th>\n",
       "      <td>Aquarius</td>\n",
       "      <td>Virgo</td>\n",
       "    </tr>\n",
       "    <tr>\n",
       "      <th>8</th>\n",
       "      <td>Aquarius</td>\n",
       "      <td>Pisces</td>\n",
       "    </tr>\n",
       "    <tr>\n",
       "      <th>9</th>\n",
       "      <td>Scorpio</td>\n",
       "      <td>Pisces</td>\n",
       "    </tr>\n",
       "    <tr>\n",
       "      <th>10</th>\n",
       "      <td>Aries</td>\n",
       "      <td>Aquarius</td>\n",
       "    </tr>\n",
       "    <tr>\n",
       "      <th>11</th>\n",
       "      <td>Scorpio</td>\n",
       "      <td>Taurus</td>\n",
       "    </tr>\n",
       "  </tbody>\n",
       "</table>\n",
       "</div>"
      ],
      "text/plain": [
       "   Zod_sign_partner_1 Zod_sign_partner_2\n",
       "0         Sagittarius                Leo\n",
       "2              Pisces              Aries\n",
       "4             Scorpio              Libra\n",
       "5               Aries             Gemini\n",
       "6         Sagittarius              Aries\n",
       "7            Aquarius              Virgo\n",
       "8            Aquarius             Pisces\n",
       "9             Scorpio             Pisces\n",
       "10              Aries           Aquarius\n",
       "11            Scorpio             Taurus"
      ]
     },
     "execution_count": 11,
     "metadata": {},
     "output_type": "execute_result"
    }
   ],
   "source": [
    "#once they do make sense, we can delete all other cols exept zodiac signs\n",
    "divorce_data.drop(divorce_data.columns.difference(['Zod_sign_partner_1','Zod_sign_partner_2']), 1, inplace=True)\n",
    "\n",
    "divorce_data.head(10)"
   ]
  },
  {
   "cell_type": "markdown",
   "metadata": {
    "papermill": {
     "duration": 0.037918,
     "end_time": "2020-11-22T13:37:14.313141",
     "exception": false,
     "start_time": "2020-11-22T13:37:14.275223",
     "status": "completed"
    },
    "tags": []
   },
   "source": [
    "Looks cool. So now we can do some visuals on them "
   ]
  },
  {
   "cell_type": "code",
   "execution_count": 12,
   "metadata": {
    "execution": {
     "iopub.execute_input": "2020-11-22T13:37:14.399680Z",
     "iopub.status.busy": "2020-11-22T13:37:14.398909Z",
     "iopub.status.idle": "2020-11-22T13:37:14.819095Z",
     "shell.execute_reply": "2020-11-22T13:37:14.819647Z"
    },
    "papermill": {
     "duration": 0.468605,
     "end_time": "2020-11-22T13:37:14.819825",
     "exception": false,
     "start_time": "2020-11-22T13:37:14.351220",
     "status": "completed"
    },
    "tags": []
   },
   "outputs": [
    {
     "data": {
      "text/plain": [
       "Text(0, 0.5, 'count of zodiacs')"
      ]
     },
     "execution_count": 12,
     "metadata": {},
     "output_type": "execute_result"
    },
    {
     "data": {
      "image/png": "[encoded data removed]",
      "text/plain": [
       "<Figure size 864x288 with 1 Axes>"
      ]
     },
     "metadata": {
      "needs_background": "light"
     },
     "output_type": "display_data"
    },
    {
     "data": {
      "image/png": "[encoded data removed]",
      "text/plain": [
       "<Figure size 864x288 with 1 Axes>"
      ]
     },
     "metadata": {
      "needs_background": "light"
     },
     "output_type": "display_data"
    }
   ],
   "source": [
    "#plotting a chart for a number of men zodiac signs across the data\n",
    "plt.figure(figsize=(12,4))\n",
    "plot = sns.countplot(x=\"Zod_sign_partner_1\", data=divorce_data, palette=\"PuBu\").set_title('Men Zodiac Signs')\n",
    "plt.xlabel(\"\")\n",
    "plt.ylabel(\"count of zodiacs\")\n",
    "\n",
    "#making a one for women \n",
    "plt.figure(figsize=(12,4))\n",
    "plot = sns.countplot(x=\"Zod_sign_partner_2\", data=divorce_data, palette=\"gist_earth\").set_title('Women Zodiac Signs')\n",
    "plt.xlabel(\"\")\n",
    "plt.ylabel(\"count of zodiacs\")"
   ]
  },
  {
   "cell_type": "markdown",
   "metadata": {
    "papermill": {
     "duration": 0.04203,
     "end_time": "2020-11-22T13:37:14.903474",
     "exception": false,
     "start_time": "2020-11-22T13:37:14.861444",
     "status": "completed"
    },
    "tags": []
   },
   "source": [
    "Most of the signs are quite equally distributed. However, as we're trying to test the zodiacs compatibility, we are not looking into the individual zodiac signs, but into their combinations. \n",
    "\n",
    "There are 12 zodiac signs for both partners and that means 144 possible combinations. So let's first look into them:"
   ]
  },
  {
   "cell_type": "code",
   "execution_count": 13,
   "metadata": {
    "execution": {
     "iopub.execute_input": "2020-11-22T13:37:14.996265Z",
     "iopub.status.busy": "2020-11-22T13:37:14.995105Z",
     "iopub.status.idle": "2020-11-22T13:37:15.029722Z",
     "shell.execute_reply": "2020-11-22T13:37:15.028939Z"
    },
    "papermill": {
     "duration": 0.085518,
     "end_time": "2020-11-22T13:37:15.029851",
     "exception": false,
     "start_time": "2020-11-22T13:37:14.944333",
     "status": "completed"
    },
    "tags": []
   },
   "outputs": [
    {
     "data": {
      "text/html": [
       "<div>\n",
       "<style scoped>\n",
       "    .dataframe tbody tr th:only-of-type {\n",
       "        vertical-align: middle;\n",
       "    }\n",
       "\n",
       "    .dataframe tbody tr th {\n",
       "        vertical-align: top;\n",
       "    }\n",
       "\n",
       "    .dataframe thead th {\n",
       "        text-align: right;\n",
       "    }\n",
       "</style>\n",
       "<table border=\"1\" class=\"dataframe\">\n",
       "  <thead>\n",
       "    <tr style=\"text-align: right;\">\n",
       "      <th></th>\n",
       "      <th>Aquarius</th>\n",
       "      <th>Aries</th>\n",
       "      <th>Cancer</th>\n",
       "      <th>Capricorn</th>\n",
       "      <th>Gemini</th>\n",
       "      <th>Leo</th>\n",
       "      <th>Libra</th>\n",
       "      <th>Pisces</th>\n",
       "      <th>Sagittarius</th>\n",
       "      <th>Scorpio</th>\n",
       "      <th>Taurus</th>\n",
       "      <th>Virgo</th>\n",
       "    </tr>\n",
       "  </thead>\n",
       "  <tbody>\n",
       "    <tr>\n",
       "      <th>Aquarius</th>\n",
       "      <td>35</td>\n",
       "      <td>34</td>\n",
       "      <td>28</td>\n",
       "      <td>26</td>\n",
       "      <td>32</td>\n",
       "      <td>32</td>\n",
       "      <td>23</td>\n",
       "      <td>24</td>\n",
       "      <td>26</td>\n",
       "      <td>34</td>\n",
       "      <td>32</td>\n",
       "      <td>29</td>\n",
       "    </tr>\n",
       "    <tr>\n",
       "      <th>Aries</th>\n",
       "      <td>35</td>\n",
       "      <td>23</td>\n",
       "      <td>25</td>\n",
       "      <td>27</td>\n",
       "      <td>29</td>\n",
       "      <td>35</td>\n",
       "      <td>32</td>\n",
       "      <td>24</td>\n",
       "      <td>28</td>\n",
       "      <td>24</td>\n",
       "      <td>30</td>\n",
       "      <td>27</td>\n",
       "    </tr>\n",
       "    <tr>\n",
       "      <th>Cancer</th>\n",
       "      <td>40</td>\n",
       "      <td>33</td>\n",
       "      <td>35</td>\n",
       "      <td>21</td>\n",
       "      <td>21</td>\n",
       "      <td>31</td>\n",
       "      <td>36</td>\n",
       "      <td>43</td>\n",
       "      <td>32</td>\n",
       "      <td>35</td>\n",
       "      <td>24</td>\n",
       "      <td>36</td>\n",
       "    </tr>\n",
       "    <tr>\n",
       "      <th>Capricorn</th>\n",
       "      <td>26</td>\n",
       "      <td>33</td>\n",
       "      <td>29</td>\n",
       "      <td>28</td>\n",
       "      <td>31</td>\n",
       "      <td>31</td>\n",
       "      <td>13</td>\n",
       "      <td>39</td>\n",
       "      <td>33</td>\n",
       "      <td>27</td>\n",
       "      <td>25</td>\n",
       "      <td>25</td>\n",
       "    </tr>\n",
       "    <tr>\n",
       "      <th>Gemini</th>\n",
       "      <td>29</td>\n",
       "      <td>29</td>\n",
       "      <td>22</td>\n",
       "      <td>28</td>\n",
       "      <td>30</td>\n",
       "      <td>40</td>\n",
       "      <td>36</td>\n",
       "      <td>25</td>\n",
       "      <td>22</td>\n",
       "      <td>32</td>\n",
       "      <td>30</td>\n",
       "      <td>34</td>\n",
       "    </tr>\n",
       "    <tr>\n",
       "      <th>Leo</th>\n",
       "      <td>24</td>\n",
       "      <td>25</td>\n",
       "      <td>28</td>\n",
       "      <td>20</td>\n",
       "      <td>35</td>\n",
       "      <td>28</td>\n",
       "      <td>31</td>\n",
       "      <td>28</td>\n",
       "      <td>29</td>\n",
       "      <td>27</td>\n",
       "      <td>40</td>\n",
       "      <td>34</td>\n",
       "    </tr>\n",
       "    <tr>\n",
       "      <th>Libra</th>\n",
       "      <td>29</td>\n",
       "      <td>29</td>\n",
       "      <td>29</td>\n",
       "      <td>21</td>\n",
       "      <td>29</td>\n",
       "      <td>25</td>\n",
       "      <td>35</td>\n",
       "      <td>32</td>\n",
       "      <td>26</td>\n",
       "      <td>30</td>\n",
       "      <td>37</td>\n",
       "      <td>35</td>\n",
       "    </tr>\n",
       "    <tr>\n",
       "      <th>Pisces</th>\n",
       "      <td>25</td>\n",
       "      <td>40</td>\n",
       "      <td>28</td>\n",
       "      <td>33</td>\n",
       "      <td>25</td>\n",
       "      <td>25</td>\n",
       "      <td>35</td>\n",
       "      <td>33</td>\n",
       "      <td>33</td>\n",
       "      <td>32</td>\n",
       "      <td>33</td>\n",
       "      <td>27</td>\n",
       "    </tr>\n",
       "    <tr>\n",
       "      <th>Sagittarius</th>\n",
       "      <td>35</td>\n",
       "      <td>37</td>\n",
       "      <td>33</td>\n",
       "      <td>26</td>\n",
       "      <td>26</td>\n",
       "      <td>25</td>\n",
       "      <td>35</td>\n",
       "      <td>24</td>\n",
       "      <td>36</td>\n",
       "      <td>27</td>\n",
       "      <td>32</td>\n",
       "      <td>34</td>\n",
       "    </tr>\n",
       "    <tr>\n",
       "      <th>Scorpio</th>\n",
       "      <td>33</td>\n",
       "      <td>35</td>\n",
       "      <td>23</td>\n",
       "      <td>31</td>\n",
       "      <td>24</td>\n",
       "      <td>27</td>\n",
       "      <td>38</td>\n",
       "      <td>33</td>\n",
       "      <td>28</td>\n",
       "      <td>33</td>\n",
       "      <td>36</td>\n",
       "      <td>32</td>\n",
       "    </tr>\n",
       "    <tr>\n",
       "      <th>Taurus</th>\n",
       "      <td>24</td>\n",
       "      <td>31</td>\n",
       "      <td>30</td>\n",
       "      <td>30</td>\n",
       "      <td>42</td>\n",
       "      <td>33</td>\n",
       "      <td>35</td>\n",
       "      <td>38</td>\n",
       "      <td>35</td>\n",
       "      <td>36</td>\n",
       "      <td>26</td>\n",
       "      <td>37</td>\n",
       "    </tr>\n",
       "    <tr>\n",
       "      <th>Virgo</th>\n",
       "      <td>32</td>\n",
       "      <td>34</td>\n",
       "      <td>34</td>\n",
       "      <td>20</td>\n",
       "      <td>36</td>\n",
       "      <td>31</td>\n",
       "      <td>29</td>\n",
       "      <td>42</td>\n",
       "      <td>30</td>\n",
       "      <td>30</td>\n",
       "      <td>27</td>\n",
       "      <td>36</td>\n",
       "    </tr>\n",
       "  </tbody>\n",
       "</table>\n",
       "</div>"
      ],
      "text/plain": [
       "             Aquarius  Aries  Cancer  Capricorn  Gemini  Leo  Libra  Pisces  \\\n",
       "Aquarius           35     34      28         26      32   32     23      24   \n",
       "Aries              35     23      25         27      29   35     32      24   \n",
       "Cancer             40     33      35         21      21   31     36      43   \n",
       "Capricorn          26     33      29         28      31   31     13      39   \n",
       "Gemini             29     29      22         28      30   40     36      25   \n",
       "Leo                24     25      28         20      35   28     31      28   \n",
       "Libra              29     29      29         21      29   25     35      32   \n",
       "Pisces             25     40      28         33      25   25     35      33   \n",
       "Sagittarius        35     37      33         26      26   25     35      24   \n",
       "Scorpio            33     35      23         31      24   27     38      33   \n",
       "Taurus             24     31      30         30      42   33     35      38   \n",
       "Virgo              32     34      34         20      36   31     29      42   \n",
       "\n",
       "             Sagittarius  Scorpio  Taurus  Virgo  \n",
       "Aquarius              26       34      32     29  \n",
       "Aries                 28       24      30     27  \n",
       "Cancer                32       35      24     36  \n",
       "Capricorn             33       27      25     25  \n",
       "Gemini                22       32      30     34  \n",
       "Leo                   29       27      40     34  \n",
       "Libra                 26       30      37     35  \n",
       "Pisces                33       32      33     27  \n",
       "Sagittarius           36       27      32     34  \n",
       "Scorpio               28       33      36     32  \n",
       "Taurus                35       36      26     37  \n",
       "Virgo                 30       30      27     36  "
      ]
     },
     "execution_count": 13,
     "metadata": {},
     "output_type": "execute_result"
    }
   ],
   "source": [
    "#creating a matrix for the zodiac signs combinations (man+woman)\n",
    "adjacency_matrix = pd.crosstab(divorce_data.Zod_sign_partner_1, divorce_data.Zod_sign_partner_2)\n",
    "idx = adjacency_matrix.columns.union(adjacency_matrix.index)\n",
    "adjacency_matrix = adjacency_matrix.reindex(index = idx, columns=idx, fill_value=0)\n",
    "adjacency_matrix.head(12)"
   ]
  },
  {
   "cell_type": "code",
   "execution_count": 14,
   "metadata": {
    "execution": {
     "iopub.execute_input": "2020-11-22T13:37:15.142614Z",
     "iopub.status.busy": "2020-11-22T13:37:15.141756Z",
     "iopub.status.idle": "2020-11-22T13:37:17.181407Z",
     "shell.execute_reply": "2020-11-22T13:37:17.182024Z"
    },
    "papermill": {
     "duration": 2.110227,
     "end_time": "2020-11-22T13:37:17.182215",
     "exception": false,
     "start_time": "2020-11-22T13:37:15.071988",
     "status": "completed"
    },
    "tags": []
   },
   "outputs": [
    {
     "data": {
      "text/plain": [
       "(array([  0,   1,   2,   3,   4,   5,   6,   7,   8,   9,  10,  11,  12,\n",
       "         13,  14,  15,  16,  17,  18,  19,  20,  21,  22,  23,  24,  25,\n",
       "         26,  27,  28,  29,  30,  31,  32,  33,  34,  35,  36,  37,  38,\n",
       "         39,  40,  41,  42,  43,  44,  45,  46,  47,  48,  49,  50,  51,\n",
       "         52,  53,  54,  55,  56,  57,  58,  59,  60,  61,  62,  63,  64,\n",
       "         65,  66,  67,  68,  69,  70,  71,  72,  73,  74,  75,  76,  77,\n",
       "         78,  79,  80,  81,  82,  83,  84,  85,  86,  87,  88,  89,  90,\n",
       "         91,  92,  93,  94,  95,  96,  97,  98,  99, 100, 101, 102, 103,\n",
       "        104, 105, 106, 107, 108, 109, 110, 111, 112, 113, 114, 115, 116,\n",
       "        117, 118, 119, 120, 121, 122, 123, 124, 125, 126, 127, 128, 129,\n",
       "        130, 131, 132, 133, 134, 135, 136, 137, 138, 139, 140, 141, 142,\n",
       "        143]),\n",
       " <a list of 144 Text major ticklabel objects>)"
      ]
     },
     "execution_count": 14,
     "metadata": {},
     "output_type": "execute_result"
    },
    {
     "data": {
      "image/png": "[encoded data removed]",
      "text/plain": [
       "<Figure size 2160x720 with 1 Axes>"
      ]
     },
     "metadata": {
      "needs_background": "light"
     },
     "output_type": "display_data"
    }
   ],
   "source": [
    "#creating an additional col for the zodiac combinations\n",
    "divorce_data['Zodiac_combinations'] = divorce_data['Zod_sign_partner_1'] + divorce_data['Zod_sign_partner_2']\n",
    "\n",
    "#plotting a chart for combinations\n",
    "plt.figure(figsize=(30,10))\n",
    "plot = sns.countplot(x=\"Zodiac_combinations\", data=divorce_data, palette=\"cividis_r\").set_title('Zodiac Signs Combinations')\n",
    "plt.xlabel(\"\")\n",
    "plt.ylabel(\"count of combinations\")\n",
    "plt.xticks(rotation=90)\n"
   ]
  },
  {
   "cell_type": "code",
   "execution_count": 15,
   "metadata": {
    "execution": {
     "iopub.execute_input": "2020-11-22T13:37:17.296162Z",
     "iopub.status.busy": "2020-11-22T13:37:17.295050Z",
     "iopub.status.idle": "2020-11-22T13:37:17.500013Z",
     "shell.execute_reply": "2020-11-22T13:37:17.500539Z"
    },
    "papermill": {
     "duration": 0.272804,
     "end_time": "2020-11-22T13:37:17.500760",
     "exception": false,
     "start_time": "2020-11-22T13:37:17.227956",
     "status": "completed"
    },
    "tags": []
   },
   "outputs": [
    {
     "data": {
      "text/plain": [
       "Text(0.5, 0, '')"
      ]
     },
     "execution_count": 15,
     "metadata": {},
     "output_type": "execute_result"
    },
    {
     "data": {
      "image/png": "[encoded data removed]",
      "text/plain": [
       "<Figure size 864x432 with 1 Axes>"
      ]
     },
     "metadata": {
      "needs_background": "light"
     },
     "output_type": "display_data"
    }
   ],
   "source": [
    "#see the histogram for the normal distribution\n",
    "plt.figure(figsize=(12,6))\n",
    "sns.distplot(divorce_data['Zodiac_combinations'].value_counts(), fit=norm);\n",
    "plt.xlabel(\"\")"
   ]
  },
  {
   "cell_type": "markdown",
   "metadata": {
    "papermill": {
     "duration": 0.046216,
     "end_time": "2020-11-22T13:37:17.593977",
     "exception": false,
     "start_time": "2020-11-22T13:37:17.547761",
     "status": "completed"
    },
    "tags": []
   },
   "source": [
    "It is good that we got all of the possible 144 combinations within our dataset range and that at least tells us the size of the dataset is large enough. Only the Man+Woman (partner_1+partner_2) zodiac combinations were considered as I couldn't find any zodiac methodology in the marriage outcomes prediction that is taking an individual's sex into consideration.   \n",
    "\n",
    "It seems like the count of different combinations ranges from 13 (least) to 42 (most) and it looks like the combinations aren't quite normally distributed with some negative skewness.\n",
    "\n",
    "So probably there is still a chance that we get some correlations between \"bad fit\" combinations and divorces within this dataset. \n",
    "\n",
    "<a id=\"section-four\"></a>\n",
    "### 4. Zodiac Compatibity Testing\n",
    "\n",
    "So how do we know a \"good\" or \"bad\" marriage/relationship fit from the astrology standpoint?\n",
    "\n",
    "I searched that for a bit on the web and finally came up with this [website](https://numerologysign.com/astrology/zodiac/compatibility/) and this \"Zodiac Compatibility Matrix\":\n",
    "\n",
    "![](https://numerologysign.com/wp-content/uploads/2020/03/Astrological-Zodiac-Signs-Compatibility-Chart.png)\n",
    "\n",
    "- it has a relatively high web [traffic](https://www.similarweb.com/website/numerologysign.com?utm_source=addon&utm_medium=chrome&utm_content=header&utm_campaign=cta-button&from_ext=1) with 680k+ monthly visits\n",
    "\n",
    "- the author of that compatibility matrix is a member of the [National Council of Geocosmic Research](https://geocosmic.org/) and holds a Level II Certification from this organization. Yes, there are Councils in Astrology and they probably even get some funding...\n",
    "\n",
    "- at the end of the day: all of these \"zodiac compatibility\" tables/matrix give very similar compatibilities across each other\n",
    "\n",
    "Let's upload and plot this matrix in a .csv version:"
   ]
  },
  {
   "cell_type": "code",
   "execution_count": 16,
   "metadata": {
    "execution": {
     "iopub.execute_input": "2020-11-22T13:37:17.695452Z",
     "iopub.status.busy": "2020-11-22T13:37:17.694644Z",
     "iopub.status.idle": "2020-11-22T13:37:17.707554Z",
     "shell.execute_reply": "2020-11-22T13:37:17.708114Z"
    },
    "papermill": {
     "duration": 0.067342,
     "end_time": "2020-11-22T13:37:17.708272",
     "exception": false,
     "start_time": "2020-11-22T13:37:17.640930",
     "status": "completed"
    },
    "tags": []
   },
   "outputs": [
    {
     "data": {
      "text/html": [
       "<div>\n",
       "<style scoped>\n",
       "    .dataframe tbody tr th:only-of-type {\n",
       "        vertical-align: middle;\n",
       "    }\n",
       "\n",
       "    .dataframe tbody tr th {\n",
       "        vertical-align: top;\n",
       "    }\n",
       "\n",
       "    .dataframe thead th {\n",
       "        text-align: right;\n",
       "    }\n",
       "</style>\n",
       "<table border=\"1\" class=\"dataframe\">\n",
       "  <thead>\n",
       "    <tr style=\"text-align: right;\">\n",
       "      <th></th>\n",
       "      <th>Zodiac_combination</th>\n",
       "      <th>Compatibility_rate</th>\n",
       "    </tr>\n",
       "  </thead>\n",
       "  <tbody>\n",
       "    <tr>\n",
       "      <th>0</th>\n",
       "      <td>CancerPisces</td>\n",
       "      <td>0.98</td>\n",
       "    </tr>\n",
       "    <tr>\n",
       "      <th>1</th>\n",
       "      <td>TaurusGemini</td>\n",
       "      <td>0.33</td>\n",
       "    </tr>\n",
       "    <tr>\n",
       "      <th>2</th>\n",
       "      <td>VirgoPisces</td>\n",
       "      <td>0.88</td>\n",
       "    </tr>\n",
       "    <tr>\n",
       "      <th>3</th>\n",
       "      <td>PiscesAries</td>\n",
       "      <td>0.67</td>\n",
       "    </tr>\n",
       "    <tr>\n",
       "      <th>4</th>\n",
       "      <td>CancerAquarius</td>\n",
       "      <td>0.27</td>\n",
       "    </tr>\n",
       "    <tr>\n",
       "      <th>5</th>\n",
       "      <td>GeminiLeo</td>\n",
       "      <td>0.88</td>\n",
       "    </tr>\n",
       "    <tr>\n",
       "      <th>6</th>\n",
       "      <td>LeoTaurus</td>\n",
       "      <td>0.73</td>\n",
       "    </tr>\n",
       "    <tr>\n",
       "      <th>7</th>\n",
       "      <td>CapricornPisces</td>\n",
       "      <td>0.88</td>\n",
       "    </tr>\n",
       "    <tr>\n",
       "      <th>8</th>\n",
       "      <td>ScorpioLibra</td>\n",
       "      <td>0.35</td>\n",
       "    </tr>\n",
       "    <tr>\n",
       "      <th>9</th>\n",
       "      <td>TaurusPisces</td>\n",
       "      <td>0.85</td>\n",
       "    </tr>\n",
       "  </tbody>\n",
       "</table>\n",
       "</div>"
      ],
      "text/plain": [
       "  Zodiac_combination  Compatibility_rate\n",
       "0       CancerPisces                0.98\n",
       "1       TaurusGemini                0.33\n",
       "2        VirgoPisces                0.88\n",
       "3        PiscesAries                0.67\n",
       "4     CancerAquarius                0.27\n",
       "5          GeminiLeo                0.88\n",
       "6          LeoTaurus                0.73\n",
       "7    CapricornPisces                0.88\n",
       "8       ScorpioLibra                0.35\n",
       "9       TaurusPisces                0.85"
      ]
     },
     "execution_count": 16,
     "metadata": {},
     "output_type": "execute_result"
    }
   ],
   "source": [
    "#upload the above compatibility matrix from a .csv \n",
    "comp_matrix = pd.read_csv('/kaggle/input/divorcemarriage-dataset-with-birth-dates/Comp_matrix.csv')\n",
    "\n",
    "comp_matrix.head(10) #compatibility rate - %"
   ]
  },
  {
   "cell_type": "code",
   "execution_count": 17,
   "metadata": {
    "execution": {
     "iopub.execute_input": "2020-11-22T13:37:17.824979Z",
     "iopub.status.busy": "2020-11-22T13:37:17.811180Z",
     "iopub.status.idle": "2020-11-22T13:37:19.412193Z",
     "shell.execute_reply": "2020-11-22T13:37:19.412778Z"
    },
    "papermill": {
     "duration": 1.65701,
     "end_time": "2020-11-22T13:37:19.412932",
     "exception": false,
     "start_time": "2020-11-22T13:37:17.755922",
     "status": "completed"
    },
    "tags": []
   },
   "outputs": [
    {
     "data": {
      "image/png": "[encoded data removed]",
      "text/plain": [
       "<Figure size 2160x720 with 1 Axes>"
      ]
     },
     "metadata": {
      "needs_background": "light"
     },
     "output_type": "display_data"
    }
   ],
   "source": [
    "#making a scatter plot\n",
    "\n",
    "plt.figure(figsize=(30,10))\n",
    "x, comb = np.unique(comp_matrix['Zodiac_combination'], return_inverse=True)\n",
    "plt.scatter(comb, comp_matrix['Compatibility_rate'])\n",
    "plt.xticks(range(len(x)), x)\n",
    "plt.xticks(rotation=90)\n",
    "plt.show()"
   ]
  },
  {
   "cell_type": "code",
   "execution_count": 18,
   "metadata": {
    "execution": {
     "iopub.execute_input": "2020-11-22T13:37:19.640474Z",
     "iopub.status.busy": "2020-11-22T13:37:19.638412Z",
     "iopub.status.idle": "2020-11-22T13:37:19.818440Z",
     "shell.execute_reply": "2020-11-22T13:37:19.817687Z"
    },
    "papermill": {
     "duration": 0.355175,
     "end_time": "2020-11-22T13:37:19.818562",
     "exception": false,
     "start_time": "2020-11-22T13:37:19.463387",
     "status": "completed"
    },
    "tags": []
   },
   "outputs": [
    {
     "data": {
      "text/plain": [
       "Text(0.5, 0, '')"
      ]
     },
     "execution_count": 18,
     "metadata": {},
     "output_type": "execute_result"
    },
    {
     "data": {
      "image/png": "[encoded data removed]",
      "text/plain": [
       "<Figure size 864x432 with 1 Axes>"
      ]
     },
     "metadata": {
      "needs_background": "light"
     },
     "output_type": "display_data"
    }
   ],
   "source": [
    "#see the histogram for the normal distribution\n",
    "plt.figure(figsize=(12,6))\n",
    "sns.distplot(comp_matrix['Compatibility_rate'], fit=norm);\n",
    "plt.xlabel(\"\")"
   ]
  },
  {
   "cell_type": "code",
   "execution_count": 19,
   "metadata": {
    "execution": {
     "iopub.execute_input": "2020-11-22T13:37:19.934066Z",
     "iopub.status.busy": "2020-11-22T13:37:19.932909Z",
     "iopub.status.idle": "2020-11-22T13:37:19.943424Z",
     "shell.execute_reply": "2020-11-22T13:37:19.942652Z"
    },
    "papermill": {
     "duration": 0.071809,
     "end_time": "2020-11-22T13:37:19.943548",
     "exception": false,
     "start_time": "2020-11-22T13:37:19.871739",
     "status": "completed"
    },
    "tags": []
   },
   "outputs": [
    {
     "data": {
      "text/plain": [
       "count    144.000000\n",
       "mean       0.673472\n",
       "std        0.222363\n",
       "min        0.270000\n",
       "25%        0.480000\n",
       "50%        0.680000\n",
       "75%        0.880000\n",
       "max        0.980000\n",
       "Name: Compatibility_rate, dtype: float64"
      ]
     },
     "execution_count": 19,
     "metadata": {},
     "output_type": "execute_result"
    }
   ],
   "source": [
    "#see the max/min, mean etc.\n",
    "comp_matrix['Compatibility_rate'].describe()"
   ]
  },
  {
   "cell_type": "markdown",
   "metadata": {
    "papermill": {
     "duration": 0.053248,
     "end_time": "2020-11-22T13:37:20.052661",
     "exception": false,
     "start_time": "2020-11-22T13:37:19.999413",
     "status": "completed"
    },
    "tags": []
   },
   "source": [
    "The zodiac compatibility matrix simply shows how good the zodiac signs fit each other in the range of 1 to 100% from the astrology point of view. Now we need to determine the \"bad\" and \"good\" fits, but where is the borderline for that? Given it is 1-100%, should we simply put 50%? \n",
    "\n",
    "From the histogram, we see that the compatibilities aren't well-distributed from 1 to 100% and they are quite positively skewed into the second 50%. Well, this is what astrology says and we have to deal with that. As seen from the describe() function - the minimum compatibility is 27% - obviously the bad fit, and the maximum compatibility of 98% is definitely a good one.  Also, the standard deviation is 0.22 and the mean is 0.67, so 0.5 (50%) isn't really a good idea here as we have many more zodiac sign combinations in the 50-100% range. \n",
    "\n",
    "Probably the good idea is to ask Pandas pd.qcut() function to help us. It will divide the range into equal-sized buckets based on sample quantiles (medians). In the below example I divide the range into 2 categories with one median, but this awesome function gives an option to split any dataset/range into many chunks using quantiles and multiple medians."
   ]
  },
  {
   "cell_type": "code",
   "execution_count": 20,
   "metadata": {
    "execution": {
     "iopub.execute_input": "2020-11-22T13:37:20.171579Z",
     "iopub.status.busy": "2020-11-22T13:37:20.170816Z",
     "iopub.status.idle": "2020-11-22T13:37:20.174361Z",
     "shell.execute_reply": "2020-11-22T13:37:20.173623Z"
    },
    "papermill": {
     "duration": 0.067681,
     "end_time": "2020-11-22T13:37:20.174479",
     "exception": false,
     "start_time": "2020-11-22T13:37:20.106798",
     "status": "completed"
    },
    "tags": []
   },
   "outputs": [],
   "source": [
    "#setting the categories\n",
    "compatibility_fit_labels = ['Bad_fit', 'Good_fit']\n",
    "\n",
    "#creating a new col for the categories\n",
    "comp_matrix['Compatibility'] = pd.qcut(comp_matrix['Compatibility_rate'], q= [0, .5, 1], labels=compatibility_fit_labels)"
   ]
  },
  {
   "cell_type": "code",
   "execution_count": 21,
   "metadata": {
    "execution": {
     "iopub.execute_input": "2020-11-22T13:37:20.291066Z",
     "iopub.status.busy": "2020-11-22T13:37:20.290019Z",
     "iopub.status.idle": "2020-11-22T13:37:20.294343Z",
     "shell.execute_reply": "2020-11-22T13:37:20.294943Z"
    },
    "papermill": {
     "duration": 0.066948,
     "end_time": "2020-11-22T13:37:20.295108",
     "exception": false,
     "start_time": "2020-11-22T13:37:20.228160",
     "status": "completed"
    },
    "tags": []
   },
   "outputs": [
    {
     "data": {
      "text/plain": [
       "Bad_fit     73\n",
       "Good_fit    71\n",
       "Name: Compatibility, dtype: int64"
      ]
     },
     "execution_count": 21,
     "metadata": {},
     "output_type": "execute_result"
    }
   ],
   "source": [
    "#seeing how many values in each category\n",
    "comp_matrix['Compatibility'].value_counts()"
   ]
  },
  {
   "cell_type": "markdown",
   "metadata": {
    "papermill": {
     "duration": 0.053409,
     "end_time": "2020-11-22T13:37:20.402233",
     "exception": false,
     "start_time": "2020-11-22T13:37:20.348824",
     "status": "completed"
    },
    "tags": []
   },
   "source": [
    "We see that the categories' aren't exactly equal, but that is fine since it's a small difference (73 vs. 71) and I think we can live with that \n",
    "\n",
    "So I am going to join my two data frames (comp_matrix & divorce_data) and see how the newly created compatibility column would be distributed in the actual divorce dataset as this is our end goal!"
   ]
  },
  {
   "cell_type": "code",
   "execution_count": 22,
   "metadata": {
    "execution": {
     "iopub.execute_input": "2020-11-22T13:37:20.518346Z",
     "iopub.status.busy": "2020-11-22T13:37:20.517160Z",
     "iopub.status.idle": "2020-11-22T13:37:20.545766Z",
     "shell.execute_reply": "2020-11-22T13:37:20.545002Z"
    },
    "papermill": {
     "duration": 0.089943,
     "end_time": "2020-11-22T13:37:20.545891",
     "exception": false,
     "start_time": "2020-11-22T13:37:20.455948",
     "status": "completed"
    },
    "tags": []
   },
   "outputs": [
    {
     "data": {
      "text/html": [
       "<div>\n",
       "<style scoped>\n",
       "    .dataframe tbody tr th:only-of-type {\n",
       "        vertical-align: middle;\n",
       "    }\n",
       "\n",
       "    .dataframe tbody tr th {\n",
       "        vertical-align: top;\n",
       "    }\n",
       "\n",
       "    .dataframe thead th {\n",
       "        text-align: right;\n",
       "    }\n",
       "</style>\n",
       "<table border=\"1\" class=\"dataframe\">\n",
       "  <thead>\n",
       "    <tr style=\"text-align: right;\">\n",
       "      <th></th>\n",
       "      <th>Zod_sign_partner_1</th>\n",
       "      <th>Zod_sign_partner_2</th>\n",
       "      <th>Zodiac_combinations</th>\n",
       "      <th>Compatibility_rate</th>\n",
       "      <th>Compatibility</th>\n",
       "    </tr>\n",
       "  </thead>\n",
       "  <tbody>\n",
       "    <tr>\n",
       "      <th>0</th>\n",
       "      <td>Sagittarius</td>\n",
       "      <td>Leo</td>\n",
       "      <td>SagittariusLeo</td>\n",
       "      <td>0.93</td>\n",
       "      <td>Good_fit</td>\n",
       "    </tr>\n",
       "    <tr>\n",
       "      <th>2</th>\n",
       "      <td>Pisces</td>\n",
       "      <td>Aries</td>\n",
       "      <td>PiscesAries</td>\n",
       "      <td>0.67</td>\n",
       "      <td>Bad_fit</td>\n",
       "    </tr>\n",
       "    <tr>\n",
       "      <th>4</th>\n",
       "      <td>Scorpio</td>\n",
       "      <td>Libra</td>\n",
       "      <td>ScorpioLibra</td>\n",
       "      <td>0.35</td>\n",
       "      <td>Bad_fit</td>\n",
       "    </tr>\n",
       "    <tr>\n",
       "      <th>5</th>\n",
       "      <td>Aries</td>\n",
       "      <td>Gemini</td>\n",
       "      <td>AriesGemini</td>\n",
       "      <td>0.83</td>\n",
       "      <td>Good_fit</td>\n",
       "    </tr>\n",
       "    <tr>\n",
       "      <th>6</th>\n",
       "      <td>Sagittarius</td>\n",
       "      <td>Aries</td>\n",
       "      <td>SagittariusAries</td>\n",
       "      <td>0.93</td>\n",
       "      <td>Good_fit</td>\n",
       "    </tr>\n",
       "    <tr>\n",
       "      <th>...</th>\n",
       "      <td>...</td>\n",
       "      <td>...</td>\n",
       "      <td>...</td>\n",
       "      <td>...</td>\n",
       "      <td>...</td>\n",
       "    </tr>\n",
       "    <tr>\n",
       "      <th>4918</th>\n",
       "      <td>Scorpio</td>\n",
       "      <td>Sagittarius</td>\n",
       "      <td>ScorpioSagittarius</td>\n",
       "      <td>0.28</td>\n",
       "      <td>Bad_fit</td>\n",
       "    </tr>\n",
       "    <tr>\n",
       "      <th>4919</th>\n",
       "      <td>Libra</td>\n",
       "      <td>Virgo</td>\n",
       "      <td>LibraVirgo</td>\n",
       "      <td>0.68</td>\n",
       "      <td>Bad_fit</td>\n",
       "    </tr>\n",
       "    <tr>\n",
       "      <th>4920</th>\n",
       "      <td>Scorpio</td>\n",
       "      <td>Aquarius</td>\n",
       "      <td>ScorpioAquarius</td>\n",
       "      <td>0.73</td>\n",
       "      <td>Good_fit</td>\n",
       "    </tr>\n",
       "    <tr>\n",
       "      <th>4921</th>\n",
       "      <td>Cancer</td>\n",
       "      <td>Aquarius</td>\n",
       "      <td>CancerAquarius</td>\n",
       "      <td>0.27</td>\n",
       "      <td>Bad_fit</td>\n",
       "    </tr>\n",
       "    <tr>\n",
       "      <th>4922</th>\n",
       "      <td>Cancer</td>\n",
       "      <td>Aquarius</td>\n",
       "      <td>CancerAquarius</td>\n",
       "      <td>0.27</td>\n",
       "      <td>Bad_fit</td>\n",
       "    </tr>\n",
       "  </tbody>\n",
       "</table>\n",
       "<p>4374 rows × 5 columns</p>\n",
       "</div>"
      ],
      "text/plain": [
       "     Zod_sign_partner_1 Zod_sign_partner_2 Zodiac_combinations  \\\n",
       "0           Sagittarius                Leo      SagittariusLeo   \n",
       "2                Pisces              Aries         PiscesAries   \n",
       "4               Scorpio              Libra        ScorpioLibra   \n",
       "5                 Aries             Gemini         AriesGemini   \n",
       "6           Sagittarius              Aries    SagittariusAries   \n",
       "...                 ...                ...                 ...   \n",
       "4918            Scorpio        Sagittarius  ScorpioSagittarius   \n",
       "4919              Libra              Virgo          LibraVirgo   \n",
       "4920            Scorpio           Aquarius     ScorpioAquarius   \n",
       "4921             Cancer           Aquarius      CancerAquarius   \n",
       "4922             Cancer           Aquarius      CancerAquarius   \n",
       "\n",
       "      Compatibility_rate Compatibility  \n",
       "0                   0.93      Good_fit  \n",
       "2                   0.67       Bad_fit  \n",
       "4                   0.35       Bad_fit  \n",
       "5                   0.83      Good_fit  \n",
       "6                   0.93      Good_fit  \n",
       "...                  ...           ...  \n",
       "4918                0.28       Bad_fit  \n",
       "4919                0.68       Bad_fit  \n",
       "4920                0.73      Good_fit  \n",
       "4921                0.27       Bad_fit  \n",
       "4922                0.27       Bad_fit  \n",
       "\n",
       "[4374 rows x 5 columns]"
      ]
     },
     "execution_count": 22,
     "metadata": {},
     "output_type": "execute_result"
    }
   ],
   "source": [
    "#rename the col for future dataframes join\n",
    "comp_matrix = comp_matrix.rename(columns={'Zodiac_combination': 'Zodiac_combinations'})\n",
    "\n",
    "#joining the datframes\n",
    "cols = ['Zodiac_combinations']\n",
    "divorce_data = divorce_data.join(comp_matrix.set_index(cols), on=cols)\n",
    "\n",
    "divorce_data"
   ]
  },
  {
   "cell_type": "markdown",
   "metadata": {
    "papermill": {
     "duration": 0.054011,
     "end_time": "2020-11-22T13:37:20.654361",
     "exception": false,
     "start_time": "2020-11-22T13:37:20.600350",
     "status": "completed"
    },
    "tags": []
   },
   "source": [
    "Woohhoo! Finally we're done and we can see how the zodiac compatibilities influence the divorce..."
   ]
  },
  {
   "cell_type": "code",
   "execution_count": 23,
   "metadata": {
    "execution": {
     "iopub.execute_input": "2020-11-22T13:37:20.784000Z",
     "iopub.status.busy": "2020-11-22T13:37:20.775362Z",
     "iopub.status.idle": "2020-11-22T13:37:20.856550Z",
     "shell.execute_reply": "2020-11-22T13:37:20.855844Z"
    },
    "papermill": {
     "duration": 0.147957,
     "end_time": "2020-11-22T13:37:20.856724",
     "exception": false,
     "start_time": "2020-11-22T13:37:20.708767",
     "status": "completed"
    },
    "tags": []
   },
   "outputs": [
    {
     "data": {
      "image/png": "[encoded data removed]",
      "text/plain": [
       "<Figure size 432x432 with 1 Axes>"
      ]
     },
     "metadata": {},
     "output_type": "display_data"
    }
   ],
   "source": [
    "# plotting a pie chart, to see how actually zodiac compatibility is distributed across the divorce dataset in percentage\n",
    "\n",
    "labels = ['Good_fit', 'Bad_fit']\n",
    "sizes = divorce_data['Compatibility'].value_counts()\n",
    "#colors\n",
    "colors = ['#ff9999','#66b3ff','#99ff99','#ffcc99']\n",
    "\n",
    "\n",
    "fig1, ax1 = plt.subplots()\n",
    "ax1.pie(sizes, labels=labels, autopct='%1.1f%%', colors = colors, shadow=True, startangle=90, pctdistance=0.85)\n",
    "\n",
    "centre_circle = plt.Circle((0,0),0.70,fc='white')\n",
    "fig = plt.gcf()\n",
    "fig.gca().add_artist(centre_circle)\n",
    "fig.set_size_inches(6,6)\n",
    "ax1.axis('equal')  # Equal aspect ratio ensures that pie is drawn as a circle.\n",
    "plt.tight_layout()\n",
    "plt.title('Zodiac Compatibility: Divorce Data (percentage)')\n",
    "plt.show()"
   ]
  },
  {
   "cell_type": "code",
   "execution_count": 24,
   "metadata": {
    "execution": {
     "iopub.execute_input": "2020-11-22T13:37:20.982646Z",
     "iopub.status.busy": "2020-11-22T13:37:20.981888Z",
     "iopub.status.idle": "2020-11-22T13:37:21.107042Z",
     "shell.execute_reply": "2020-11-22T13:37:21.106282Z"
    },
    "papermill": {
     "duration": 0.19397,
     "end_time": "2020-11-22T13:37:21.107167",
     "exception": false,
     "start_time": "2020-11-22T13:37:20.913197",
     "status": "completed"
    },
    "tags": []
   },
   "outputs": [
    {
     "data": {
      "text/plain": [
       "Text(0, 0.5, '')"
      ]
     },
     "execution_count": 24,
     "metadata": {},
     "output_type": "execute_result"
    },
    {
     "data": {
      "image/png": "[encoded data removed]",
      "text/plain": [
       "<Figure size 864x288 with 1 Axes>"
      ]
     },
     "metadata": {
      "needs_background": "light"
     },
     "output_type": "display_data"
    }
   ],
   "source": [
    "#plotting a chart to see how zodiac compatibility is distributed across the divorce dataset in actual numbers\n",
    "plt.figure(figsize=(12,4))\n",
    "plot = sns.countplot(x=\"Compatibility\", data=divorce_data, facecolor=(0, 0, 0, 0),linewidth=5,edgecolor=sns.color_palette(\"dark\", 3)).set_title('Zodiac Compatibility: Divorce Data (actual numbers)')\n",
    "plt.xlabel(\"\")\n",
    "plt.ylabel(\"\")"
   ]
  },
  {
   "cell_type": "markdown",
   "metadata": {
    "papermill": {
     "duration": 0.057773,
     "end_time": "2020-11-22T13:37:21.222733",
     "exception": false,
     "start_time": "2020-11-22T13:37:21.164960",
     "status": "completed"
    },
    "tags": []
   },
   "source": [
    "Oh well..."
   ]
  },
  {
   "cell_type": "code",
   "execution_count": 25,
   "metadata": {
    "execution": {
     "iopub.execute_input": "2020-11-22T13:37:21.346953Z",
     "iopub.status.busy": "2020-11-22T13:37:21.346019Z",
     "iopub.status.idle": "2020-11-22T13:37:21.350824Z",
     "shell.execute_reply": "2020-11-22T13:37:21.350069Z"
    },
    "papermill": {
     "duration": 0.070776,
     "end_time": "2020-11-22T13:37:21.350957",
     "exception": false,
     "start_time": "2020-11-22T13:37:21.280181",
     "status": "completed"
    },
    "tags": []
   },
   "outputs": [
    {
     "data": {
      "text/plain": [
       "Good_fit    2205\n",
       "Bad_fit     2169\n",
       "Name: Compatibility, dtype: int64"
      ]
     },
     "execution_count": 25,
     "metadata": {},
     "output_type": "execute_result"
    }
   ],
   "source": [
    "#see the number \n",
    "divorce_data['Compatibility'].value_counts()"
   ]
  },
  {
   "cell_type": "markdown",
   "metadata": {
    "papermill": {
     "duration": 0.057553,
     "end_time": "2020-11-22T13:37:21.466560",
     "exception": false,
     "start_time": "2020-11-22T13:37:21.409007",
     "status": "completed"
    },
    "tags": []
   },
   "source": [
    "Essentially, in case if astrology was right, we should have seen significantly less good fits and much more bad fits in the divorce data.\n",
    "\n",
    "But we actually see that there is an almost perfect 50/50 distribution of \"bad\" and \"good\" fit compatibilities. It's funny that we even got a little bit more of 'good' compatibilities (50.4% vs 49.6%)\n",
    "\n",
    "What that means is that there is an equal probability for divorced people to have a good or bad zodiac fit and it's highly unlikely the zodiac signs had any effect on the individuals' divorces. At least in that particular case with the 4374 number of divorces in Xalapa, Mexico...\n",
    "\n",
    "Next time astrology, next time...\n",
    "\n",
    "<a id=\"section-five\"></a>\n",
    "### Conclusion\n",
    "\n",
    "That was a warm-up exercise with the aim to do some data exploration and have some fun.\n",
    "\n",
    "**What potentially could have been wrong:**\n",
    "\n",
    "- Find a better zodiac compatibility matrix that has a normal distribution and isn't skewed into the 50-100% range. However, this is hard as they're all very similar across various astrology resources\n",
    "\n",
    "- We need more data. 4.3k of divorces isn't that much, but generally, it's not easy to find public marriage/divorce datasets with the individuals' DOBs\n",
    "\n",
    "- Probably more factors should be taken into account from the astrology standpoint. Not only signs but also actual dates probably should be considered, the exact time the person was born, sex, year and etc.\n",
    "\n",
    "- Testing and the assumptions approach is completely incorrect (feel free to comment)\n",
    "\n",
    "Anyway hope you find the exercise entertaining and will be careful about the astrology predictions in your real-life affairs. If you like this notebook and the dataset, giving some kind of credit would be very much appreciated :) Thanks!"
   ]
  }
 ],
 "metadata": {
  "kernelspec": {
   "display_name": "Python 3",
   "language": "python",
   "name": "python3"
  },
  "language_info": {
   "codemirror_mode": {
    "name": "ipython",
    "version": 3
   },
   "file_extension": ".py",
   "mimetype": "text/x-python",
   "name": "python",
   "nbconvert_exporter": "python",
   "pygments_lexer": "ipython3",
   "version": "3.7.6"
  },
  "papermill": {
   "duration": 16.634017,
   "end_time": "2020-11-22T13:37:21.633585",
   "environment_variables": {},
   "exception": null,
   "input_path": "__notebook__.ipynb",
   "output_path": "__notebook__.ipynb",
   "parameters": {},
   "start_time": "2020-11-22T13:37:04.999568",
   "version": "2.1.0"
  }
 },
 "nbformat": 4,
 "nbformat_minor": 4
}
